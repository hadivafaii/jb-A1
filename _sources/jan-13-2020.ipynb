{
 "cells": [
  {
   "cell_type": "markdown",
   "metadata": {},
   "source": [
    "# January, 13th 2020\n",
    "\n",
    "**Motivation**: Combining datasets using CanonicalCorrelation Analysis (CCA). Can we find latent dimensions using CCA that is shared between different datasets, and then map data from neuron space to this shared latent space?<br>\n",
    "**Result**: Not yet clear, some preliminary results show that this is possible.  However, thorough analysis is needed to understand this shared space.  It still doesn't work convincingly."
   ]
  },
  {
   "cell_type": "code",
   "execution_count": 4,
   "metadata": {},
   "outputs": [
    {
     "data": {
      "text/plain": [
       "[0, 2, 3]"
      ]
     },
     "execution_count": 4,
     "metadata": {},
     "output_type": "execute_result"
    }
   ],
   "source": [
    "import random\n",
    "import numpy as np\n",
    "list(np.array([0, 2, 3]))"
   ]
  },
  {
   "cell_type": "code",
   "execution_count": null,
   "metadata": {},
   "outputs": [],
   "source": []
  },
  {
   "cell_type": "code",
   "execution_count": null,
   "metadata": {},
   "outputs": [],
   "source": []
  },
  {
   "cell_type": "code",
   "execution_count": 1,
   "metadata": {
    "tags": [
     "hide-input"
    ]
   },
   "outputs": [],
   "source": [
    "# HIDE CODE\n",
    "\n",
    "\n",
    "# imports\n",
    "import os\n",
    "import sys\n",
    "import h5py\n",
    "import pickle\n",
    "import random\n",
    "import numpy as np\n",
    "import pandas as pd\n",
    "from os.path import join as pjoin\n",
    "from copy import deepcopy as dc\n",
    "from tqdm.notebook import tqdm\n",
    "from collections import Counter\n",
    "\n",
    "import matplotlib.pyplot as plt\n",
    "import seaborn as sns\n",
    "sns.set_style('white')\n",
    "\n",
    "github_path = pjoin(os.environ['HOME'], 'Dropbox/git/A1ToneDiscrimination/')\n",
    "sys.path.insert(0, github_path)\n",
    "from utils.process import *\n",
    "from utils.generic_utils import *\n",
    "from utils.plot_functions import *\n",
    "\n",
    "import warnings\n",
    "warnings.filterwarnings('ignore', category=RuntimeWarning)\n",
    "\n",
    "import rcca\n",
    "from sklearn.linear_model import LogisticRegression\n",
    "from sklearn.metrics import balanced_accuracy_score, matthews_corrcoef, f1_score\n",
    "\n",
    "# load data\n",
    "dirs_dict = get_dirs()"
   ]
  },
  {
   "cell_type": "markdown",
   "metadata": {},
   "source": [
    "## CCA analysis\n",
    "\n",
    "TODO"
   ]
  },
  {
   "cell_type": "code",
   "execution_count": null,
   "metadata": {},
   "outputs": [],
   "source": []
  },
  {
   "cell_type": "code",
   "execution_count": 2,
   "metadata": {},
   "outputs": [],
   "source": [
    "from typing import Tuple, Union\n",
    "\n",
    "def _load_target_nontarget(h_load_file: str):\n",
    "    target_dffs, nontarget_dffs = {}, {}\n",
    "    target_labels, nontarget_labels = {}, {}\n",
    "    \n",
    "    f = h5py.File(h_load_file, 'r')\n",
    "    for name in f:\n",
    "        behavior = f[name]['behavior']\n",
    "        passive = f[name]['passive']\n",
    "\n",
    "        good_cells_b = np.array(behavior[\"good_cells\"], dtype=int)\n",
    "        good_cells_p = np.array(passive[\"good_cells\"], dtype=int)\n",
    "        good_cells = set(good_cells_b).intersection(set(good_cells_p))\n",
    "        good_cells = sorted(list(good_cells))\n",
    "\n",
    "        dff = np.array(behavior['dff'], dtype=float)[..., good_cells]\n",
    "        nt, ntrials, nc = dff.shape\n",
    "\n",
    "        trial_info = {}\n",
    "        for k, v in behavior[\"trial_info\"].items():\n",
    "            trial_info[k] = np.array(v, dtype=int)\n",
    "\n",
    "        target_indxs = np.where(trial_info['target'])[0]\n",
    "        nontarget_indxs = np.where(trial_info['nontarget'])[0]\n",
    "\n",
    "        target_dffs[name] = dff[:, target_indxs, :]\n",
    "        nontarget_dffs[name] = dff[:, nontarget_indxs, :]\n",
    "\n",
    "        target_labels[name] = trial_info['hit'][target_indxs]\n",
    "        nontarget_labels[name] = trial_info['correctreject'][nontarget_indxs]\n",
    "    f.close()\n",
    "    \n",
    "    raw_data = {\n",
    "        'target_dffs': target_dffs,\n",
    "        'nontarget_dffs': nontarget_dffs,\n",
    "        'target_labels': target_labels,\n",
    "        'nontarget_labels': nontarget_labels,\n",
    "    }\n",
    "    return raw_data\n",
    "\n",
    "def augment_data(\n",
    "    x: np.ndarray,\n",
    "    y: np.ndarray,\n",
    "    nb_end_samples: int,\n",
    "    sigma: float = 1.0,\n",
    "    rng: np.random.RandomState = None,):\n",
    "    \n",
    "    nb_samples, nb_features = x.shape\n",
    "\n",
    "    if nb_end_samples - nb_samples <= 0:\n",
    "        output = {\n",
    "            'x_aug': x[:nb_end_samples],\n",
    "            'y_aug': y[:nb_end_samples],\n",
    "            'noise': None,\n",
    "            'indxs': None,\n",
    "        }\n",
    "        return output\n",
    "    else:\n",
    "        nb_repeats, nb_extra_samples = nb_end_samples//nb_samples, nb_end_samples%nb_samples\n",
    "\n",
    "    indxs = np.arange(nb_samples)\n",
    "    x_aug, y_aug = tuple(map(dc, [x, y]))\n",
    "\n",
    "    for _ in range(1, nb_repeats):\n",
    "        indxs = np.concatenate([indxs, np.arange(nb_samples)])\n",
    "        x_aug = np.concatenate([x_aug, x])\n",
    "        y_aug = np.concatenate([y_aug, y])\n",
    "\n",
    "    rng = np.random.RandomState(42) if rng is None else rng\n",
    "    if nb_extra_samples > 0:\n",
    "        extra_indxs = rng.choice(range(nb_samples), size=nb_extra_samples, replace=True)\n",
    "        indxs = np.concatenate([indxs, extra_indxs])\n",
    "        x_aug = np.concatenate([x_aug, x[extra_indxs]])\n",
    "        y_aug = np.concatenate([y_aug, y[extra_indxs]])\n",
    "\n",
    "    noise = np.random.randn(*x_aug.shape) * x.std(0) * sigma\n",
    "    noise[:nb_samples] = 0.0\n",
    "\n",
    "    augmented = {\n",
    "        'x_aug': x_aug + noise,\n",
    "        'y_aug': y_aug,\n",
    "        'noise': noise,\n",
    "        'indxs': indxs,\n",
    "    }\n",
    "    return augmented\n",
    "\n",
    "    \n",
    "def prepare_data(\n",
    "    h_load_file: str,\n",
    "    timepoint: int = 45,\n",
    "    nb_min_samples: int = -1,\n",
    "    nb_end_samples: int = None,\n",
    "    augment: bool = False,\n",
    "    sigma: float = 0.0,\n",
    "    xv_folds: int = 10,\n",
    "    random_state: int = 42,):\n",
    "    \n",
    "    raw_data = _load_target_nontarget(h_load_file)\n",
    "    rng = np.random.RandomState(random_state)\n",
    "    \n",
    "    train_data, test_data = {}, {}\n",
    "    train_labels, test_labels = {}, {}\n",
    "    for key, val in raw_data['target_dffs'].items():\n",
    "        x = val[timepoint]\n",
    "        num_samples = len(x)\n",
    "        if num_samples < nb_min_samples:\n",
    "            continue\n",
    "\n",
    "        labels = raw_data['target_labels'][key]\n",
    "        if not augment:\n",
    "            x = x[:nb_min_samples]\n",
    "            labels = labels[:nb_min_samples]\n",
    "\n",
    "        ### TODDO: floor or ceil?\n",
    "            \n",
    "        pos_indxs = np.where(labels == 0)[0]\n",
    "        neg_indxs = np.where(labels == 1)[0]\n",
    "        pos_tst_indxs = rng.choice(pos_indxs, size=int(np.ceil(len(pos_indxs)/xv_folds)), replace=False)\n",
    "        neg_tst_indxs = rng.choice(neg_indxs, size=int(np.ceil(len(neg_indxs)/xv_folds)), replace=False)\n",
    "        tst_indxs = np.concatenate([pos_tst_indxs, neg_tst_indxs])\n",
    "        trn_indxs = np.delete(range(len(labels)), tst_indxs)\n",
    "        assert not set(tst_indxs).intersection(set(trn_indxs))\n",
    "\n",
    "        test_data[key] = x[tst_indxs]\n",
    "        train_data[key] = x[trn_indxs]\n",
    "        test_labels[key] = labels[tst_indxs]\n",
    "        train_labels[key] = labels[trn_indxs]\n",
    "    \n",
    "    aug_train_data = {}\n",
    "    aug_train_labels = {}\n",
    "    if augment:\n",
    "        for key, x in train_data.items():\n",
    "            y = train_labels[key]\n",
    "            augmented = augment_data(\n",
    "                x=x,\n",
    "                y=y,\n",
    "                nb_end_samples=nb_end_samples,\n",
    "                sigma=sigma,\n",
    "                rng=rng,\n",
    "            )\n",
    "            aug_train_data[key] = augmented['x_aug']\n",
    "            aug_train_labels[key] = augmented['y_aug']\n",
    "    \n",
    "    output = {\n",
    "        'aug_train_data': aug_train_data,\n",
    "        'aug_train_labels': aug_train_labels,\n",
    "        'train_data': train_data,\n",
    "        'train_labels': train_labels,\n",
    "        'test_data': test_data,\n",
    "        'test_labels': test_labels,\n",
    "    }\n",
    "    return output"
   ]
  },
  {
   "cell_type": "code",
   "execution_count": 3,
   "metadata": {},
   "outputs": [],
   "source": [
    "import rcca\n",
    "from sklearn.linear_model import LogisticRegression\n",
    "from sklearn.metrics import balanced_accuracy_score, matthews_corrcoef, f1_score\n",
    "\n",
    "import random\n",
    "from tqdm.notebook import tqdm"
   ]
  },
  {
   "cell_type": "code",
   "execution_count": null,
   "metadata": {},
   "outputs": [],
   "source": []
  },
  {
   "cell_type": "code",
   "execution_count": 4,
   "metadata": {},
   "outputs": [
    {
     "data": {
      "application/vnd.jupyter.widget-view+json": {
       "model_id": "65fd88b42263447fa4652dfd9055f456",
       "version_major": 2,
       "version_minor": 0
      },
      "text/plain": [
       "HBox(children=(HTML(value=''), FloatProgress(value=0.0, max=31.0), HTML(value='')))"
      ]
     },
     "metadata": {},
     "output_type": "display_data"
    },
    {
     "data": {
      "application/vnd.jupyter.widget-view+json": {
       "model_id": "",
       "version_major": 2,
       "version_minor": 0
      },
      "text/plain": [
       "HBox(children=(HTML(value=''), FloatProgress(value=0.0, max=99.0), HTML(value='')))"
      ]
     },
     "metadata": {},
     "output_type": "display_data"
    },
    {
     "data": {
      "application/vnd.jupyter.widget-view+json": {
       "model_id": "",
       "version_major": 2,
       "version_minor": 0
      },
      "text/plain": [
       "HBox(children=(HTML(value=''), FloatProgress(value=0.0, max=99.0), HTML(value='')))"
      ]
     },
     "metadata": {},
     "output_type": "display_data"
    },
    {
     "data": {
      "application/vnd.jupyter.widget-view+json": {
       "model_id": "",
       "version_major": 2,
       "version_minor": 0
      },
      "text/plain": [
       "HBox(children=(HTML(value=''), FloatProgress(value=0.0, max=99.0), HTML(value='')))"
      ]
     },
     "metadata": {},
     "output_type": "display_data"
    },
    {
     "data": {
      "application/vnd.jupyter.widget-view+json": {
       "model_id": "",
       "version_major": 2,
       "version_minor": 0
      },
      "text/plain": [
       "HBox(children=(HTML(value=''), FloatProgress(value=0.0, max=99.0), HTML(value='')))"
      ]
     },
     "metadata": {},
     "output_type": "display_data"
    },
    {
     "data": {
      "application/vnd.jupyter.widget-view+json": {
       "model_id": "",
       "version_major": 2,
       "version_minor": 0
      },
      "text/plain": [
       "HBox(children=(HTML(value=''), FloatProgress(value=0.0, max=99.0), HTML(value='')))"
      ]
     },
     "metadata": {},
     "output_type": "display_data"
    },
    {
     "data": {
      "application/vnd.jupyter.widget-view+json": {
       "model_id": "",
       "version_major": 2,
       "version_minor": 0
      },
      "text/plain": [
       "HBox(children=(HTML(value=''), FloatProgress(value=0.0, max=99.0), HTML(value='')))"
      ]
     },
     "metadata": {},
     "output_type": "display_data"
    },
    {
     "data": {
      "application/vnd.jupyter.widget-view+json": {
       "model_id": "",
       "version_major": 2,
       "version_minor": 0
      },
      "text/plain": [
       "HBox(children=(HTML(value=''), FloatProgress(value=0.0, max=99.0), HTML(value='')))"
      ]
     },
     "metadata": {},
     "output_type": "display_data"
    },
    {
     "data": {
      "application/vnd.jupyter.widget-view+json": {
       "model_id": "",
       "version_major": 2,
       "version_minor": 0
      },
      "text/plain": [
       "HBox(children=(HTML(value=''), FloatProgress(value=0.0, max=99.0), HTML(value='')))"
      ]
     },
     "metadata": {},
     "output_type": "display_data"
    },
    {
     "data": {
      "application/vnd.jupyter.widget-view+json": {
       "model_id": "",
       "version_major": 2,
       "version_minor": 0
      },
      "text/plain": [
       "HBox(children=(HTML(value=''), FloatProgress(value=0.0, max=99.0), HTML(value='')))"
      ]
     },
     "metadata": {},
     "output_type": "display_data"
    },
    {
     "data": {
      "application/vnd.jupyter.widget-view+json": {
       "model_id": "",
       "version_major": 2,
       "version_minor": 0
      },
      "text/plain": [
       "HBox(children=(HTML(value=''), FloatProgress(value=0.0, max=99.0), HTML(value='')))"
      ]
     },
     "metadata": {},
     "output_type": "display_data"
    },
    {
     "data": {
      "application/vnd.jupyter.widget-view+json": {
       "model_id": "",
       "version_major": 2,
       "version_minor": 0
      },
      "text/plain": [
       "HBox(children=(HTML(value=''), FloatProgress(value=0.0, max=99.0), HTML(value='')))"
      ]
     },
     "metadata": {},
     "output_type": "display_data"
    },
    {
     "data": {
      "application/vnd.jupyter.widget-view+json": {
       "model_id": "",
       "version_major": 2,
       "version_minor": 0
      },
      "text/plain": [
       "HBox(children=(HTML(value=''), FloatProgress(value=0.0, max=99.0), HTML(value='')))"
      ]
     },
     "metadata": {},
     "output_type": "display_data"
    },
    {
     "data": {
      "application/vnd.jupyter.widget-view+json": {
       "model_id": "",
       "version_major": 2,
       "version_minor": 0
      },
      "text/plain": [
       "HBox(children=(HTML(value=''), FloatProgress(value=0.0, max=99.0), HTML(value='')))"
      ]
     },
     "metadata": {},
     "output_type": "display_data"
    },
    {
     "data": {
      "application/vnd.jupyter.widget-view+json": {
       "model_id": "",
       "version_major": 2,
       "version_minor": 0
      },
      "text/plain": [
       "HBox(children=(HTML(value=''), FloatProgress(value=0.0, max=99.0), HTML(value='')))"
      ]
     },
     "metadata": {},
     "output_type": "display_data"
    },
    {
     "data": {
      "application/vnd.jupyter.widget-view+json": {
       "model_id": "",
       "version_major": 2,
       "version_minor": 0
      },
      "text/plain": [
       "HBox(children=(HTML(value=''), FloatProgress(value=0.0, max=99.0), HTML(value='')))"
      ]
     },
     "metadata": {},
     "output_type": "display_data"
    },
    {
     "data": {
      "application/vnd.jupyter.widget-view+json": {
       "model_id": "",
       "version_major": 2,
       "version_minor": 0
      },
      "text/plain": [
       "HBox(children=(HTML(value=''), FloatProgress(value=0.0, max=99.0), HTML(value='')))"
      ]
     },
     "metadata": {},
     "output_type": "display_data"
    },
    {
     "data": {
      "application/vnd.jupyter.widget-view+json": {
       "model_id": "",
       "version_major": 2,
       "version_minor": 0
      },
      "text/plain": [
       "HBox(children=(HTML(value=''), FloatProgress(value=0.0, max=99.0), HTML(value='')))"
      ]
     },
     "metadata": {},
     "output_type": "display_data"
    },
    {
     "data": {
      "application/vnd.jupyter.widget-view+json": {
       "model_id": "",
       "version_major": 2,
       "version_minor": 0
      },
      "text/plain": [
       "HBox(children=(HTML(value=''), FloatProgress(value=0.0, max=99.0), HTML(value='')))"
      ]
     },
     "metadata": {},
     "output_type": "display_data"
    },
    {
     "data": {
      "application/vnd.jupyter.widget-view+json": {
       "model_id": "",
       "version_major": 2,
       "version_minor": 0
      },
      "text/plain": [
       "HBox(children=(HTML(value=''), FloatProgress(value=0.0, max=99.0), HTML(value='')))"
      ]
     },
     "metadata": {},
     "output_type": "display_data"
    },
    {
     "data": {
      "application/vnd.jupyter.widget-view+json": {
       "model_id": "",
       "version_major": 2,
       "version_minor": 0
      },
      "text/plain": [
       "HBox(children=(HTML(value=''), FloatProgress(value=0.0, max=99.0), HTML(value='')))"
      ]
     },
     "metadata": {},
     "output_type": "display_data"
    },
    {
     "data": {
      "application/vnd.jupyter.widget-view+json": {
       "model_id": "",
       "version_major": 2,
       "version_minor": 0
      },
      "text/plain": [
       "HBox(children=(HTML(value=''), FloatProgress(value=0.0, max=99.0), HTML(value='')))"
      ]
     },
     "metadata": {},
     "output_type": "display_data"
    },
    {
     "data": {
      "application/vnd.jupyter.widget-view+json": {
       "model_id": "",
       "version_major": 2,
       "version_minor": 0
      },
      "text/plain": [
       "HBox(children=(HTML(value=''), FloatProgress(value=0.0, max=99.0), HTML(value='')))"
      ]
     },
     "metadata": {},
     "output_type": "display_data"
    },
    {
     "data": {
      "application/vnd.jupyter.widget-view+json": {
       "model_id": "",
       "version_major": 2,
       "version_minor": 0
      },
      "text/plain": [
       "HBox(children=(HTML(value=''), FloatProgress(value=0.0, max=99.0), HTML(value='')))"
      ]
     },
     "metadata": {},
     "output_type": "display_data"
    },
    {
     "data": {
      "application/vnd.jupyter.widget-view+json": {
       "model_id": "",
       "version_major": 2,
       "version_minor": 0
      },
      "text/plain": [
       "HBox(children=(HTML(value=''), FloatProgress(value=0.0, max=99.0), HTML(value='')))"
      ]
     },
     "metadata": {},
     "output_type": "display_data"
    },
    {
     "data": {
      "application/vnd.jupyter.widget-view+json": {
       "model_id": "",
       "version_major": 2,
       "version_minor": 0
      },
      "text/plain": [
       "HBox(children=(HTML(value=''), FloatProgress(value=0.0, max=99.0), HTML(value='')))"
      ]
     },
     "metadata": {},
     "output_type": "display_data"
    },
    {
     "data": {
      "application/vnd.jupyter.widget-view+json": {
       "model_id": "",
       "version_major": 2,
       "version_minor": 0
      },
      "text/plain": [
       "HBox(children=(HTML(value=''), FloatProgress(value=0.0, max=99.0), HTML(value='')))"
      ]
     },
     "metadata": {},
     "output_type": "display_data"
    },
    {
     "data": {
      "application/vnd.jupyter.widget-view+json": {
       "model_id": "",
       "version_major": 2,
       "version_minor": 0
      },
      "text/plain": [
       "HBox(children=(HTML(value=''), FloatProgress(value=0.0, max=99.0), HTML(value='')))"
      ]
     },
     "metadata": {},
     "output_type": "display_data"
    },
    {
     "data": {
      "application/vnd.jupyter.widget-view+json": {
       "model_id": "",
       "version_major": 2,
       "version_minor": 0
      },
      "text/plain": [
       "HBox(children=(HTML(value=''), FloatProgress(value=0.0, max=99.0), HTML(value='')))"
      ]
     },
     "metadata": {},
     "output_type": "display_data"
    },
    {
     "data": {
      "application/vnd.jupyter.widget-view+json": {
       "model_id": "",
       "version_major": 2,
       "version_minor": 0
      },
      "text/plain": [
       "HBox(children=(HTML(value=''), FloatProgress(value=0.0, max=99.0), HTML(value='')))"
      ]
     },
     "metadata": {},
     "output_type": "display_data"
    },
    {
     "data": {
      "application/vnd.jupyter.widget-view+json": {
       "model_id": "",
       "version_major": 2,
       "version_minor": 0
      },
      "text/plain": [
       "HBox(children=(HTML(value=''), FloatProgress(value=0.0, max=99.0), HTML(value='')))"
      ]
     },
     "metadata": {},
     "output_type": "display_data"
    },
    {
     "data": {
      "application/vnd.jupyter.widget-view+json": {
       "model_id": "",
       "version_major": 2,
       "version_minor": 0
      },
      "text/plain": [
       "HBox(children=(HTML(value=''), FloatProgress(value=0.0, max=99.0), HTML(value='')))"
      ]
     },
     "metadata": {},
     "output_type": "display_data"
    },
    {
     "name": "stdout",
     "output_type": "stream",
     "text": [
      "\n"
     ]
    }
   ],
   "source": [
    "max_components = 100\n",
    "seeds = [np.power(2, i) for i in range(30)]\n",
    "seeds += [42]\n",
    "\n",
    "results = pd.DataFrame()\n",
    "\n",
    "for seed in tqdm(seeds):\n",
    "    random.seed(seed)\n",
    "    np.random.seed(seed)\n",
    "    \n",
    "    output = prepare_data(\n",
    "        h_load_file=dirs_dict['h_load_file'],\n",
    "        timepoint=45,\n",
    "        augment=False,\n",
    "        nb_min_samples=100,\n",
    "        random_state=seed,\n",
    "    )\n",
    "    train_data = output['train_data']\n",
    "    train_labels = output['train_labels']\n",
    "    test_data = output['test_data']\n",
    "    test_labels = output['test_labels']\n",
    "    \n",
    "    for n_components in tqdm(range(1, max_components), leave=False):\n",
    "        cca = rcca.CCA(reg=1., numCC=n_components, verbose=False)\n",
    "        cca.train(list(train_data.values()))\n",
    "        ev = cca.compute_ev(list(test_data.values()))\n",
    "\n",
    "        x_trn = [x @ w for x, w in zip(train_data.values(), cca.ws)]\n",
    "        x_tst = [x @ w for x, w in zip(test_data.values(), cca.ws)]    \n",
    "        y_trn = [item for item in train_labels.values()]\n",
    "        y_tst = [item for item in test_labels.values()]\n",
    "        x_trn, x_tst, y_trn, y_tst = tuple(map(np.concatenate, [x_trn, x_tst, y_trn, y_tst]))\n",
    "\n",
    "        clf = LogisticRegression(\n",
    "            random_state=seed,\n",
    "            penalty='l1',\n",
    "            C=1.,\n",
    "            solver='liblinear',\n",
    "            class_weight='balanced',\n",
    "            max_iter=int(1e6),\n",
    "        ).fit(x_trn, y_trn)\n",
    "        y_pred = clf.predict(x_tst)\n",
    "\n",
    "        balacc = balanced_accuracy_score(y_tst, y_pred)\n",
    "        f1 = f1_score(y_tst, y_pred)\n",
    "        mcc = matthews_corrcoef(y_tst, y_pred)\n",
    "\n",
    "        data_dict = {\n",
    "            'seed': [seed] * 4,\n",
    "            'sigma': [np.nan] * 4,\n",
    "            'n_components': [n_components] * 4,\n",
    "            'metric': ['mcc', 'f1', 'balacc', 'ev'],\n",
    "            'value': [mcc, balacc, f1, np.mean([item.max(0).mean() for item in ev])],\n",
    "        }\n",
    "        results = pd.concat([results, pd.DataFrame.from_dict(data_dict)])\n",
    "\n",
    "results = reset_df(results)"
   ]
  },
  {
   "cell_type": "code",
   "execution_count": 5,
   "metadata": {},
   "outputs": [
    {
     "data": {
      "image/png": "[encoded data removed]",
      "text/plain": [
       "<Figure size 720x576 with 1 Axes>"
      ]
     },
     "metadata": {},
     "output_type": "display_data"
    }
   ],
   "source": [
    "plt.figure(figsize=(10, 8))\n",
    "sns.lineplot(data=results, x='n_components', y='value', hue='metric',\n",
    "             style='metric', markers=True, dashes=False, lw=2, markersize=5)\n",
    "plt.ylabel('%')\n",
    "plt.grid()\n",
    "\n",
    "selected_df = results.loc[results.metric == 'mcc']\n",
    "performance = selected_df.groupby('n_components').mean()\n",
    "best_n_components = performance.iloc[performance.value.argmax()].name\n",
    "selected_df = selected_df.loc[selected_df.n_components == best_n_components]\n",
    "\n",
    "plt.axvline(best_n_components, ls=':', color='k', alpha=0.5)\n",
    "\n",
    "msg = '# componens vs. explained variance (red curve), and classification performance \\n'\n",
    "msg += 'performance increases as we introduce more and more components, then gradually drops\\n\\n'\n",
    "msg += 'best # components: {:d}\\n'\n",
    "msg += 'best avg performance:  i) mcc = {:.3f},  ii) f1 score = {:.3f},  iii) balanced accuracy = {:.3f}'\n",
    "avg_mcc = results.loc[(results.metric == 'mcc') & (results.n_components == best_n_components)].value.mean()\n",
    "avg_f1 = results.loc[(results.metric == 'f1') & (results.n_components == best_n_components)].value.mean()\n",
    "avg_balacc = results.loc[(results.metric == 'balacc') & (results.n_components == best_n_components)].value.mean()\n",
    "msg = msg.format(best_n_components, avg_mcc, avg_f1, avg_balacc)\n",
    "plt.suptitle(msg, fontsize=13, y=1.01)\n",
    "plt.tight_layout()\n",
    "plt.show()"
   ]
  },
  {
   "cell_type": "code",
   "execution_count": 6,
   "metadata": {},
   "outputs": [
    {
     "data": {
      "text/html": [
       "<div>\n",
       "<style scoped>\n",
       "    .dataframe tbody tr th:only-of-type {\n",
       "        vertical-align: middle;\n",
       "    }\n",
       "\n",
       "    .dataframe tbody tr th {\n",
       "        vertical-align: top;\n",
       "    }\n",
       "\n",
       "    .dataframe thead th {\n",
       "        text-align: right;\n",
       "    }\n",
       "</style>\n",
       "<table border=\"1\" class=\"dataframe\">\n",
       "  <thead>\n",
       "    <tr style=\"text-align: right;\">\n",
       "      <th></th>\n",
       "      <th>seed</th>\n",
       "      <th>sigma</th>\n",
       "      <th>n_components</th>\n",
       "      <th>metric</th>\n",
       "      <th>value</th>\n",
       "    </tr>\n",
       "  </thead>\n",
       "  <tbody>\n",
       "    <tr>\n",
       "      <th>116</th>\n",
       "      <td>1</td>\n",
       "      <td>NaN</td>\n",
       "      <td>30</td>\n",
       "      <td>mcc</td>\n",
       "      <td>0.382679</td>\n",
       "    </tr>\n",
       "    <tr>\n",
       "      <th>512</th>\n",
       "      <td>2</td>\n",
       "      <td>NaN</td>\n",
       "      <td>30</td>\n",
       "      <td>mcc</td>\n",
       "      <td>0.478061</td>\n",
       "    </tr>\n",
       "    <tr>\n",
       "      <th>908</th>\n",
       "      <td>4</td>\n",
       "      <td>NaN</td>\n",
       "      <td>30</td>\n",
       "      <td>mcc</td>\n",
       "      <td>0.488662</td>\n",
       "    </tr>\n",
       "    <tr>\n",
       "      <th>1304</th>\n",
       "      <td>8</td>\n",
       "      <td>NaN</td>\n",
       "      <td>30</td>\n",
       "      <td>mcc</td>\n",
       "      <td>0.368924</td>\n",
       "    </tr>\n",
       "    <tr>\n",
       "      <th>1700</th>\n",
       "      <td>16</td>\n",
       "      <td>NaN</td>\n",
       "      <td>30</td>\n",
       "      <td>mcc</td>\n",
       "      <td>0.382679</td>\n",
       "    </tr>\n",
       "    <tr>\n",
       "      <th>2096</th>\n",
       "      <td>32</td>\n",
       "      <td>NaN</td>\n",
       "      <td>30</td>\n",
       "      <td>mcc</td>\n",
       "      <td>0.392532</td>\n",
       "    </tr>\n",
       "    <tr>\n",
       "      <th>2492</th>\n",
       "      <td>64</td>\n",
       "      <td>NaN</td>\n",
       "      <td>30</td>\n",
       "      <td>mcc</td>\n",
       "      <td>0.482527</td>\n",
       "    </tr>\n",
       "    <tr>\n",
       "      <th>2888</th>\n",
       "      <td>128</td>\n",
       "      <td>NaN</td>\n",
       "      <td>30</td>\n",
       "      <td>mcc</td>\n",
       "      <td>0.448464</td>\n",
       "    </tr>\n",
       "    <tr>\n",
       "      <th>3284</th>\n",
       "      <td>256</td>\n",
       "      <td>NaN</td>\n",
       "      <td>30</td>\n",
       "      <td>mcc</td>\n",
       "      <td>0.309343</td>\n",
       "    </tr>\n",
       "    <tr>\n",
       "      <th>3680</th>\n",
       "      <td>512</td>\n",
       "      <td>NaN</td>\n",
       "      <td>30</td>\n",
       "      <td>mcc</td>\n",
       "      <td>0.341797</td>\n",
       "    </tr>\n",
       "    <tr>\n",
       "      <th>4076</th>\n",
       "      <td>1024</td>\n",
       "      <td>NaN</td>\n",
       "      <td>30</td>\n",
       "      <td>mcc</td>\n",
       "      <td>0.404570</td>\n",
       "    </tr>\n",
       "    <tr>\n",
       "      <th>4472</th>\n",
       "      <td>2048</td>\n",
       "      <td>NaN</td>\n",
       "      <td>30</td>\n",
       "      <td>mcc</td>\n",
       "      <td>0.644021</td>\n",
       "    </tr>\n",
       "    <tr>\n",
       "      <th>4868</th>\n",
       "      <td>4096</td>\n",
       "      <td>NaN</td>\n",
       "      <td>30</td>\n",
       "      <td>mcc</td>\n",
       "      <td>0.497349</td>\n",
       "    </tr>\n",
       "    <tr>\n",
       "      <th>5264</th>\n",
       "      <td>8192</td>\n",
       "      <td>NaN</td>\n",
       "      <td>30</td>\n",
       "      <td>mcc</td>\n",
       "      <td>0.488662</td>\n",
       "    </tr>\n",
       "    <tr>\n",
       "      <th>5660</th>\n",
       "      <td>16384</td>\n",
       "      <td>NaN</td>\n",
       "      <td>30</td>\n",
       "      <td>mcc</td>\n",
       "      <td>0.522093</td>\n",
       "    </tr>\n",
       "    <tr>\n",
       "      <th>6056</th>\n",
       "      <td>32768</td>\n",
       "      <td>NaN</td>\n",
       "      <td>30</td>\n",
       "      <td>mcc</td>\n",
       "      <td>0.435077</td>\n",
       "    </tr>\n",
       "    <tr>\n",
       "      <th>6452</th>\n",
       "      <td>65536</td>\n",
       "      <td>NaN</td>\n",
       "      <td>30</td>\n",
       "      <td>mcc</td>\n",
       "      <td>0.465965</td>\n",
       "    </tr>\n",
       "    <tr>\n",
       "      <th>6848</th>\n",
       "      <td>131072</td>\n",
       "      <td>NaN</td>\n",
       "      <td>30</td>\n",
       "      <td>mcc</td>\n",
       "      <td>0.204007</td>\n",
       "    </tr>\n",
       "    <tr>\n",
       "      <th>7244</th>\n",
       "      <td>262144</td>\n",
       "      <td>NaN</td>\n",
       "      <td>30</td>\n",
       "      <td>mcc</td>\n",
       "      <td>0.374836</td>\n",
       "    </tr>\n",
       "    <tr>\n",
       "      <th>7640</th>\n",
       "      <td>524288</td>\n",
       "      <td>NaN</td>\n",
       "      <td>30</td>\n",
       "      <td>mcc</td>\n",
       "      <td>0.404570</td>\n",
       "    </tr>\n",
       "    <tr>\n",
       "      <th>8036</th>\n",
       "      <td>1048576</td>\n",
       "      <td>NaN</td>\n",
       "      <td>30</td>\n",
       "      <td>mcc</td>\n",
       "      <td>0.552419</td>\n",
       "    </tr>\n",
       "    <tr>\n",
       "      <th>8432</th>\n",
       "      <td>2097152</td>\n",
       "      <td>NaN</td>\n",
       "      <td>30</td>\n",
       "      <td>mcc</td>\n",
       "      <td>0.522093</td>\n",
       "    </tr>\n",
       "    <tr>\n",
       "      <th>8828</th>\n",
       "      <td>4194304</td>\n",
       "      <td>NaN</td>\n",
       "      <td>30</td>\n",
       "      <td>mcc</td>\n",
       "      <td>0.350678</td>\n",
       "    </tr>\n",
       "    <tr>\n",
       "      <th>9224</th>\n",
       "      <td>8388608</td>\n",
       "      <td>NaN</td>\n",
       "      <td>30</td>\n",
       "      <td>mcc</td>\n",
       "      <td>0.334677</td>\n",
       "    </tr>\n",
       "    <tr>\n",
       "      <th>9620</th>\n",
       "      <td>16777216</td>\n",
       "      <td>NaN</td>\n",
       "      <td>30</td>\n",
       "      <td>mcc</td>\n",
       "      <td>0.392532</td>\n",
       "    </tr>\n",
       "    <tr>\n",
       "      <th>10016</th>\n",
       "      <td>33554432</td>\n",
       "      <td>NaN</td>\n",
       "      <td>30</td>\n",
       "      <td>mcc</td>\n",
       "      <td>0.539398</td>\n",
       "    </tr>\n",
       "    <tr>\n",
       "      <th>10412</th>\n",
       "      <td>67108864</td>\n",
       "      <td>NaN</td>\n",
       "      <td>30</td>\n",
       "      <td>mcc</td>\n",
       "      <td>0.301207</td>\n",
       "    </tr>\n",
       "    <tr>\n",
       "      <th>10808</th>\n",
       "      <td>134217728</td>\n",
       "      <td>NaN</td>\n",
       "      <td>30</td>\n",
       "      <td>mcc</td>\n",
       "      <td>0.341797</td>\n",
       "    </tr>\n",
       "    <tr>\n",
       "      <th>11204</th>\n",
       "      <td>268435456</td>\n",
       "      <td>NaN</td>\n",
       "      <td>30</td>\n",
       "      <td>mcc</td>\n",
       "      <td>0.254441</td>\n",
       "    </tr>\n",
       "    <tr>\n",
       "      <th>11600</th>\n",
       "      <td>536870912</td>\n",
       "      <td>NaN</td>\n",
       "      <td>30</td>\n",
       "      <td>mcc</td>\n",
       "      <td>0.465965</td>\n",
       "    </tr>\n",
       "    <tr>\n",
       "      <th>11996</th>\n",
       "      <td>42</td>\n",
       "      <td>NaN</td>\n",
       "      <td>30</td>\n",
       "      <td>mcc</td>\n",
       "      <td>0.522093</td>\n",
       "    </tr>\n",
       "  </tbody>\n",
       "</table>\n",
       "</div>"
      ],
      "text/plain": [
       "            seed  sigma  n_components metric     value\n",
       "116            1    NaN            30    mcc  0.382679\n",
       "512            2    NaN            30    mcc  0.478061\n",
       "908            4    NaN            30    mcc  0.488662\n",
       "1304           8    NaN            30    mcc  0.368924\n",
       "1700          16    NaN            30    mcc  0.382679\n",
       "2096          32    NaN            30    mcc  0.392532\n",
       "2492          64    NaN            30    mcc  0.482527\n",
       "2888         128    NaN            30    mcc  0.448464\n",
       "3284         256    NaN            30    mcc  0.309343\n",
       "3680         512    NaN            30    mcc  0.341797\n",
       "4076        1024    NaN            30    mcc  0.404570\n",
       "4472        2048    NaN            30    mcc  0.644021\n",
       "4868        4096    NaN            30    mcc  0.497349\n",
       "5264        8192    NaN            30    mcc  0.488662\n",
       "5660       16384    NaN            30    mcc  0.522093\n",
       "6056       32768    NaN            30    mcc  0.435077\n",
       "6452       65536    NaN            30    mcc  0.465965\n",
       "6848      131072    NaN            30    mcc  0.204007\n",
       "7244      262144    NaN            30    mcc  0.374836\n",
       "7640      524288    NaN            30    mcc  0.404570\n",
       "8036     1048576    NaN            30    mcc  0.552419\n",
       "8432     2097152    NaN            30    mcc  0.522093\n",
       "8828     4194304    NaN            30    mcc  0.350678\n",
       "9224     8388608    NaN            30    mcc  0.334677\n",
       "9620    16777216    NaN            30    mcc  0.392532\n",
       "10016   33554432    NaN            30    mcc  0.539398\n",
       "10412   67108864    NaN            30    mcc  0.301207\n",
       "10808  134217728    NaN            30    mcc  0.341797\n",
       "11204  268435456    NaN            30    mcc  0.254441\n",
       "11600  536870912    NaN            30    mcc  0.465965\n",
       "11996         42    NaN            30    mcc  0.522093"
      ]
     },
     "execution_count": 6,
     "metadata": {},
     "output_type": "execute_result"
    }
   ],
   "source": [
    "selected_df"
   ]
  },
  {
   "cell_type": "code",
   "execution_count": null,
   "metadata": {},
   "outputs": [],
   "source": []
  },
  {
   "cell_type": "code",
   "execution_count": null,
   "metadata": {},
   "outputs": [],
   "source": []
  },
  {
   "cell_type": "code",
   "execution_count": null,
   "metadata": {},
   "outputs": [],
   "source": []
  },
  {
   "cell_type": "markdown",
   "metadata": {},
   "source": [
    "### now aug"
   ]
  },
  {
   "cell_type": "code",
   "execution_count": 7,
   "metadata": {},
   "outputs": [
    {
     "data": {
      "application/vnd.jupyter.widget-view+json": {
       "model_id": "0ce86679e50d4a49ba6711992e37a594",
       "version_major": 2,
       "version_minor": 0
      },
      "text/plain": [
       "HBox(children=(HTML(value=''), FloatProgress(value=0.0, max=31.0), HTML(value='')))"
      ]
     },
     "metadata": {},
     "output_type": "display_data"
    },
    {
     "data": {
      "application/vnd.jupyter.widget-view+json": {
       "model_id": "",
       "version_major": 2,
       "version_minor": 0
      },
      "text/plain": [
       "HBox(children=(HTML(value=''), FloatProgress(value=0.0, max=39.0), HTML(value='')))"
      ]
     },
     "metadata": {},
     "output_type": "display_data"
    },
    {
     "data": {
      "application/vnd.jupyter.widget-view+json": {
       "model_id": "",
       "version_major": 2,
       "version_minor": 0
      },
      "text/plain": [
       "HBox(children=(HTML(value=''), FloatProgress(value=0.0, max=39.0), HTML(value='')))"
      ]
     },
     "metadata": {},
     "output_type": "display_data"
    },
    {
     "data": {
      "application/vnd.jupyter.widget-view+json": {
       "model_id": "",
       "version_major": 2,
       "version_minor": 0
      },
      "text/plain": [
       "HBox(children=(HTML(value=''), FloatProgress(value=0.0, max=39.0), HTML(value='')))"
      ]
     },
     "metadata": {},
     "output_type": "display_data"
    },
    {
     "data": {
      "application/vnd.jupyter.widget-view+json": {
       "model_id": "",
       "version_major": 2,
       "version_minor": 0
      },
      "text/plain": [
       "HBox(children=(HTML(value=''), FloatProgress(value=0.0, max=39.0), HTML(value='')))"
      ]
     },
     "metadata": {},
     "output_type": "display_data"
    },
    {
     "data": {
      "application/vnd.jupyter.widget-view+json": {
       "model_id": "",
       "version_major": 2,
       "version_minor": 0
      },
      "text/plain": [
       "HBox(children=(HTML(value=''), FloatProgress(value=0.0, max=39.0), HTML(value='')))"
      ]
     },
     "metadata": {},
     "output_type": "display_data"
    },
    {
     "data": {
      "application/vnd.jupyter.widget-view+json": {
       "model_id": "",
       "version_major": 2,
       "version_minor": 0
      },
      "text/plain": [
       "HBox(children=(HTML(value=''), FloatProgress(value=0.0, max=39.0), HTML(value='')))"
      ]
     },
     "metadata": {},
     "output_type": "display_data"
    },
    {
     "data": {
      "application/vnd.jupyter.widget-view+json": {
       "model_id": "",
       "version_major": 2,
       "version_minor": 0
      },
      "text/plain": [
       "HBox(children=(HTML(value=''), FloatProgress(value=0.0, max=39.0), HTML(value='')))"
      ]
     },
     "metadata": {},
     "output_type": "display_data"
    },
    {
     "data": {
      "application/vnd.jupyter.widget-view+json": {
       "model_id": "",
       "version_major": 2,
       "version_minor": 0
      },
      "text/plain": [
       "HBox(children=(HTML(value=''), FloatProgress(value=0.0, max=39.0), HTML(value='')))"
      ]
     },
     "metadata": {},
     "output_type": "display_data"
    },
    {
     "data": {
      "application/vnd.jupyter.widget-view+json": {
       "model_id": "",
       "version_major": 2,
       "version_minor": 0
      },
      "text/plain": [
       "HBox(children=(HTML(value=''), FloatProgress(value=0.0, max=39.0), HTML(value='')))"
      ]
     },
     "metadata": {},
     "output_type": "display_data"
    },
    {
     "data": {
      "application/vnd.jupyter.widget-view+json": {
       "model_id": "",
       "version_major": 2,
       "version_minor": 0
      },
      "text/plain": [
       "HBox(children=(HTML(value=''), FloatProgress(value=0.0, max=39.0), HTML(value='')))"
      ]
     },
     "metadata": {},
     "output_type": "display_data"
    },
    {
     "data": {
      "application/vnd.jupyter.widget-view+json": {
       "model_id": "",
       "version_major": 2,
       "version_minor": 0
      },
      "text/plain": [
       "HBox(children=(HTML(value=''), FloatProgress(value=0.0, max=39.0), HTML(value='')))"
      ]
     },
     "metadata": {},
     "output_type": "display_data"
    },
    {
     "data": {
      "application/vnd.jupyter.widget-view+json": {
       "model_id": "",
       "version_major": 2,
       "version_minor": 0
      },
      "text/plain": [
       "HBox(children=(HTML(value=''), FloatProgress(value=0.0, max=39.0), HTML(value='')))"
      ]
     },
     "metadata": {},
     "output_type": "display_data"
    },
    {
     "data": {
      "application/vnd.jupyter.widget-view+json": {
       "model_id": "",
       "version_major": 2,
       "version_minor": 0
      },
      "text/plain": [
       "HBox(children=(HTML(value=''), FloatProgress(value=0.0, max=39.0), HTML(value='')))"
      ]
     },
     "metadata": {},
     "output_type": "display_data"
    },
    {
     "data": {
      "application/vnd.jupyter.widget-view+json": {
       "model_id": "",
       "version_major": 2,
       "version_minor": 0
      },
      "text/plain": [
       "HBox(children=(HTML(value=''), FloatProgress(value=0.0, max=39.0), HTML(value='')))"
      ]
     },
     "metadata": {},
     "output_type": "display_data"
    },
    {
     "data": {
      "application/vnd.jupyter.widget-view+json": {
       "model_id": "",
       "version_major": 2,
       "version_minor": 0
      },
      "text/plain": [
       "HBox(children=(HTML(value=''), FloatProgress(value=0.0, max=39.0), HTML(value='')))"
      ]
     },
     "metadata": {},
     "output_type": "display_data"
    },
    {
     "data": {
      "application/vnd.jupyter.widget-view+json": {
       "model_id": "",
       "version_major": 2,
       "version_minor": 0
      },
      "text/plain": [
       "HBox(children=(HTML(value=''), FloatProgress(value=0.0, max=39.0), HTML(value='')))"
      ]
     },
     "metadata": {},
     "output_type": "display_data"
    },
    {
     "data": {
      "application/vnd.jupyter.widget-view+json": {
       "model_id": "",
       "version_major": 2,
       "version_minor": 0
      },
      "text/plain": [
       "HBox(children=(HTML(value=''), FloatProgress(value=0.0, max=39.0), HTML(value='')))"
      ]
     },
     "metadata": {},
     "output_type": "display_data"
    },
    {
     "data": {
      "application/vnd.jupyter.widget-view+json": {
       "model_id": "",
       "version_major": 2,
       "version_minor": 0
      },
      "text/plain": [
       "HBox(children=(HTML(value=''), FloatProgress(value=0.0, max=39.0), HTML(value='')))"
      ]
     },
     "metadata": {},
     "output_type": "display_data"
    },
    {
     "data": {
      "application/vnd.jupyter.widget-view+json": {
       "model_id": "",
       "version_major": 2,
       "version_minor": 0
      },
      "text/plain": [
       "HBox(children=(HTML(value=''), FloatProgress(value=0.0, max=39.0), HTML(value='')))"
      ]
     },
     "metadata": {},
     "output_type": "display_data"
    },
    {
     "data": {
      "application/vnd.jupyter.widget-view+json": {
       "model_id": "",
       "version_major": 2,
       "version_minor": 0
      },
      "text/plain": [
       "HBox(children=(HTML(value=''), FloatProgress(value=0.0, max=39.0), HTML(value='')))"
      ]
     },
     "metadata": {},
     "output_type": "display_data"
    },
    {
     "data": {
      "application/vnd.jupyter.widget-view+json": {
       "model_id": "",
       "version_major": 2,
       "version_minor": 0
      },
      "text/plain": [
       "HBox(children=(HTML(value=''), FloatProgress(value=0.0, max=39.0), HTML(value='')))"
      ]
     },
     "metadata": {},
     "output_type": "display_data"
    },
    {
     "data": {
      "application/vnd.jupyter.widget-view+json": {
       "model_id": "",
       "version_major": 2,
       "version_minor": 0
      },
      "text/plain": [
       "HBox(children=(HTML(value=''), FloatProgress(value=0.0, max=39.0), HTML(value='')))"
      ]
     },
     "metadata": {},
     "output_type": "display_data"
    },
    {
     "data": {
      "application/vnd.jupyter.widget-view+json": {
       "model_id": "",
       "version_major": 2,
       "version_minor": 0
      },
      "text/plain": [
       "HBox(children=(HTML(value=''), FloatProgress(value=0.0, max=39.0), HTML(value='')))"
      ]
     },
     "metadata": {},
     "output_type": "display_data"
    },
    {
     "data": {
      "application/vnd.jupyter.widget-view+json": {
       "model_id": "",
       "version_major": 2,
       "version_minor": 0
      },
      "text/plain": [
       "HBox(children=(HTML(value=''), FloatProgress(value=0.0, max=39.0), HTML(value='')))"
      ]
     },
     "metadata": {},
     "output_type": "display_data"
    },
    {
     "data": {
      "application/vnd.jupyter.widget-view+json": {
       "model_id": "",
       "version_major": 2,
       "version_minor": 0
      },
      "text/plain": [
       "HBox(children=(HTML(value=''), FloatProgress(value=0.0, max=39.0), HTML(value='')))"
      ]
     },
     "metadata": {},
     "output_type": "display_data"
    },
    {
     "data": {
      "application/vnd.jupyter.widget-view+json": {
       "model_id": "",
       "version_major": 2,
       "version_minor": 0
      },
      "text/plain": [
       "HBox(children=(HTML(value=''), FloatProgress(value=0.0, max=39.0), HTML(value='')))"
      ]
     },
     "metadata": {},
     "output_type": "display_data"
    },
    {
     "data": {
      "application/vnd.jupyter.widget-view+json": {
       "model_id": "",
       "version_major": 2,
       "version_minor": 0
      },
      "text/plain": [
       "HBox(children=(HTML(value=''), FloatProgress(value=0.0, max=39.0), HTML(value='')))"
      ]
     },
     "metadata": {},
     "output_type": "display_data"
    },
    {
     "data": {
      "application/vnd.jupyter.widget-view+json": {
       "model_id": "",
       "version_major": 2,
       "version_minor": 0
      },
      "text/plain": [
       "HBox(children=(HTML(value=''), FloatProgress(value=0.0, max=39.0), HTML(value='')))"
      ]
     },
     "metadata": {},
     "output_type": "display_data"
    },
    {
     "data": {
      "application/vnd.jupyter.widget-view+json": {
       "model_id": "",
       "version_major": 2,
       "version_minor": 0
      },
      "text/plain": [
       "HBox(children=(HTML(value=''), FloatProgress(value=0.0, max=39.0), HTML(value='')))"
      ]
     },
     "metadata": {},
     "output_type": "display_data"
    },
    {
     "data": {
      "application/vnd.jupyter.widget-view+json": {
       "model_id": "",
       "version_major": 2,
       "version_minor": 0
      },
      "text/plain": [
       "HBox(children=(HTML(value=''), FloatProgress(value=0.0, max=39.0), HTML(value='')))"
      ]
     },
     "metadata": {},
     "output_type": "display_data"
    },
    {
     "data": {
      "application/vnd.jupyter.widget-view+json": {
       "model_id": "",
       "version_major": 2,
       "version_minor": 0
      },
      "text/plain": [
       "HBox(children=(HTML(value=''), FloatProgress(value=0.0, max=39.0), HTML(value='')))"
      ]
     },
     "metadata": {},
     "output_type": "display_data"
    },
    {
     "name": "stdout",
     "output_type": "stream",
     "text": [
      "\n"
     ]
    }
   ],
   "source": [
    "max_components = 40\n",
    "seeds = [np.power(2, i) for i in range(30)]\n",
    "seeds += [42]\n",
    "\n",
    "results = pd.DataFrame()\n",
    "\n",
    "for seed in tqdm(seeds):\n",
    "    random.seed(seed)\n",
    "    np.random.seed(seed)\n",
    "    \n",
    "    output = prepare_data(\n",
    "        h_load_file=dirs_dict['h_load_file'],\n",
    "        timepoint=45,\n",
    "        augment=True,\n",
    "        sigma=0.3,\n",
    "        nb_end_samples=130,\n",
    "        nb_min_samples=100,\n",
    "        random_state=seed,\n",
    "    )\n",
    "    aug_train_data = output['aug_train_data']\n",
    "    # aug_train_labels = output['aug_train_labels']\n",
    "    train_data = output['train_data']\n",
    "    train_labels = output['train_labels']\n",
    "    test_data = output['test_data']\n",
    "    test_labels = output['test_labels']\n",
    "    \n",
    "    for n_components in tqdm(range(1, max_components), leave=False):\n",
    "        cca = rcca.CCA(reg=1., numCC=n_components, verbose=False)\n",
    "        cca.train(list(aug_train_data.values()))\n",
    "        # ev = cca.compute_ev(list(test_data.values()))\n",
    "\n",
    "        x_trn = [x @ w for x, w in zip(train_data.values(), cca.ws)]\n",
    "        x_tst = [x @ w for x, w in zip(test_data.values(), cca.ws)]    \n",
    "        y_trn = [item for item in train_labels.values()]\n",
    "        y_tst = [item for item in test_labels.values()]\n",
    "        x_trn, x_tst, y_trn, y_tst = tuple(map(np.concatenate, [x_trn, x_tst, y_trn, y_tst]))\n",
    "\n",
    "        clf = LogisticRegression(\n",
    "            random_state=seed,\n",
    "            penalty='l1',\n",
    "            C=1.,\n",
    "            solver='liblinear',\n",
    "            class_weight='balanced',\n",
    "            max_iter=int(1e6),\n",
    "        ).fit(x_trn, y_trn)\n",
    "        y_pred = clf.predict(x_tst)\n",
    "\n",
    "        balacc = balanced_accuracy_score(y_tst, y_pred)\n",
    "        f1 = f1_score(y_tst, y_pred)\n",
    "        mcc = matthews_corrcoef(y_tst, y_pred)\n",
    "\n",
    "        data_dict = {\n",
    "            'seed': [seed] * 3,\n",
    "            'sigma': [np.nan] * 3,\n",
    "            'n_components': [n_components] * 3,\n",
    "            'metric': ['mcc', 'f1', 'balacc'],\n",
    "            'value': [mcc, balacc, f1],\n",
    "        }\n",
    "        results = pd.concat([results, pd.DataFrame.from_dict(data_dict)])\n",
    "\n",
    "results = reset_df(results)"
   ]
  },
  {
   "cell_type": "code",
   "execution_count": 8,
   "metadata": {},
   "outputs": [
    {
     "data": {
      "image/png": "[encoded data removed]",
      "text/plain": [
       "<Figure size 720x576 with 1 Axes>"
      ]
     },
     "metadata": {},
     "output_type": "display_data"
    }
   ],
   "source": [
    "plt.figure(figsize=(10, 8))\n",
    "sns.lineplot(data=results, x='n_components', y='value', hue='metric',\n",
    "             style='metric', markers=True, dashes=False, lw=2, markersize=5)\n",
    "plt.ylabel('%')\n",
    "plt.grid()\n",
    "\n",
    "selected_df = results.loc[results.metric == 'mcc']\n",
    "performance = selected_df.groupby('n_components').mean()\n",
    "best_n_components = performance.iloc[performance.value.argmax()].name\n",
    "selected_df = selected_df.loc[selected_df.n_components == best_n_components]\n",
    "\n",
    "plt.axvline(best_n_components, ls=':', color='k', alpha=0.5)\n",
    "\n",
    "msg = '# componens vs. explained variance (red curve), and classification performance \\n'\n",
    "msg += 'performance increases as we introduce more and more components, then gradually drops\\n\\n'\n",
    "msg += 'best # components: {:d}\\n'\n",
    "msg += 'best avg performance:  i) mcc = {:.3f},  ii) f1 score = {:.3f},  iii) balanced accuracy = {:.3f}'\n",
    "avg_mcc = results.loc[(results.metric == 'mcc') & (results.n_components == best_n_components)].value.mean()\n",
    "avg_f1 = results.loc[(results.metric == 'f1') & (results.n_components == best_n_components)].value.mean()\n",
    "avg_balacc = results.loc[(results.metric == 'balacc') & (results.n_components == best_n_components)].value.mean()\n",
    "msg = msg.format(best_n_components, avg_mcc, avg_f1, avg_balacc)\n",
    "plt.suptitle(msg, fontsize=13, y=1.01)\n",
    "plt.tight_layout()\n",
    "plt.show()"
   ]
  },
  {
   "cell_type": "code",
   "execution_count": 9,
   "metadata": {},
   "outputs": [
    {
     "data": {
      "text/html": [
       "<div>\n",
       "<style scoped>\n",
       "    .dataframe tbody tr th:only-of-type {\n",
       "        vertical-align: middle;\n",
       "    }\n",
       "\n",
       "    .dataframe tbody tr th {\n",
       "        vertical-align: top;\n",
       "    }\n",
       "\n",
       "    .dataframe thead th {\n",
       "        text-align: right;\n",
       "    }\n",
       "</style>\n",
       "<table border=\"1\" class=\"dataframe\">\n",
       "  <thead>\n",
       "    <tr style=\"text-align: right;\">\n",
       "      <th></th>\n",
       "      <th>seed</th>\n",
       "      <th>sigma</th>\n",
       "      <th>n_components</th>\n",
       "      <th>metric</th>\n",
       "      <th>value</th>\n",
       "    </tr>\n",
       "  </thead>\n",
       "  <tbody>\n",
       "    <tr>\n",
       "      <th>69</th>\n",
       "      <td>1</td>\n",
       "      <td>NaN</td>\n",
       "      <td>24</td>\n",
       "      <td>mcc</td>\n",
       "      <td>0.288944</td>\n",
       "    </tr>\n",
       "    <tr>\n",
       "      <th>186</th>\n",
       "      <td>2</td>\n",
       "      <td>NaN</td>\n",
       "      <td>24</td>\n",
       "      <td>mcc</td>\n",
       "      <td>0.432512</td>\n",
       "    </tr>\n",
       "    <tr>\n",
       "      <th>303</th>\n",
       "      <td>4</td>\n",
       "      <td>NaN</td>\n",
       "      <td>24</td>\n",
       "      <td>mcc</td>\n",
       "      <td>0.513300</td>\n",
       "    </tr>\n",
       "    <tr>\n",
       "      <th>420</th>\n",
       "      <td>8</td>\n",
       "      <td>NaN</td>\n",
       "      <td>24</td>\n",
       "      <td>mcc</td>\n",
       "      <td>0.269125</td>\n",
       "    </tr>\n",
       "    <tr>\n",
       "      <th>537</th>\n",
       "      <td>16</td>\n",
       "      <td>NaN</td>\n",
       "      <td>24</td>\n",
       "      <td>mcc</td>\n",
       "      <td>0.316980</td>\n",
       "    </tr>\n",
       "    <tr>\n",
       "      <th>654</th>\n",
       "      <td>32</td>\n",
       "      <td>NaN</td>\n",
       "      <td>24</td>\n",
       "      <td>mcc</td>\n",
       "      <td>0.465849</td>\n",
       "    </tr>\n",
       "    <tr>\n",
       "      <th>771</th>\n",
       "      <td>64</td>\n",
       "      <td>NaN</td>\n",
       "      <td>24</td>\n",
       "      <td>mcc</td>\n",
       "      <td>0.379787</td>\n",
       "    </tr>\n",
       "    <tr>\n",
       "      <th>888</th>\n",
       "      <td>128</td>\n",
       "      <td>NaN</td>\n",
       "      <td>24</td>\n",
       "      <td>mcc</td>\n",
       "      <td>0.470824</td>\n",
       "    </tr>\n",
       "    <tr>\n",
       "      <th>1005</th>\n",
       "      <td>256</td>\n",
       "      <td>NaN</td>\n",
       "      <td>24</td>\n",
       "      <td>mcc</td>\n",
       "      <td>0.459796</td>\n",
       "    </tr>\n",
       "    <tr>\n",
       "      <th>1122</th>\n",
       "      <td>512</td>\n",
       "      <td>NaN</td>\n",
       "      <td>24</td>\n",
       "      <td>mcc</td>\n",
       "      <td>0.396239</td>\n",
       "    </tr>\n",
       "    <tr>\n",
       "      <th>1239</th>\n",
       "      <td>1024</td>\n",
       "      <td>NaN</td>\n",
       "      <td>24</td>\n",
       "      <td>mcc</td>\n",
       "      <td>0.603442</td>\n",
       "    </tr>\n",
       "    <tr>\n",
       "      <th>1356</th>\n",
       "      <td>2048</td>\n",
       "      <td>NaN</td>\n",
       "      <td>24</td>\n",
       "      <td>mcc</td>\n",
       "      <td>0.442594</td>\n",
       "    </tr>\n",
       "    <tr>\n",
       "      <th>1473</th>\n",
       "      <td>4096</td>\n",
       "      <td>NaN</td>\n",
       "      <td>24</td>\n",
       "      <td>mcc</td>\n",
       "      <td>0.248285</td>\n",
       "    </tr>\n",
       "    <tr>\n",
       "      <th>1590</th>\n",
       "      <td>8192</td>\n",
       "      <td>NaN</td>\n",
       "      <td>24</td>\n",
       "      <td>mcc</td>\n",
       "      <td>0.373899</td>\n",
       "    </tr>\n",
       "    <tr>\n",
       "      <th>1707</th>\n",
       "      <td>16384</td>\n",
       "      <td>NaN</td>\n",
       "      <td>24</td>\n",
       "      <td>mcc</td>\n",
       "      <td>0.316980</td>\n",
       "    </tr>\n",
       "    <tr>\n",
       "      <th>1824</th>\n",
       "      <td>32768</td>\n",
       "      <td>NaN</td>\n",
       "      <td>24</td>\n",
       "      <td>mcc</td>\n",
       "      <td>0.465849</td>\n",
       "    </tr>\n",
       "    <tr>\n",
       "      <th>1941</th>\n",
       "      <td>65536</td>\n",
       "      <td>NaN</td>\n",
       "      <td>24</td>\n",
       "      <td>mcc</td>\n",
       "      <td>0.485517</td>\n",
       "    </tr>\n",
       "    <tr>\n",
       "      <th>2058</th>\n",
       "      <td>131072</td>\n",
       "      <td>NaN</td>\n",
       "      <td>24</td>\n",
       "      <td>mcc</td>\n",
       "      <td>0.324138</td>\n",
       "    </tr>\n",
       "    <tr>\n",
       "      <th>2175</th>\n",
       "      <td>262144</td>\n",
       "      <td>NaN</td>\n",
       "      <td>24</td>\n",
       "      <td>mcc</td>\n",
       "      <td>0.423136</td>\n",
       "    </tr>\n",
       "    <tr>\n",
       "      <th>2292</th>\n",
       "      <td>524288</td>\n",
       "      <td>NaN</td>\n",
       "      <td>24</td>\n",
       "      <td>mcc</td>\n",
       "      <td>0.470824</td>\n",
       "    </tr>\n",
       "    <tr>\n",
       "      <th>2409</th>\n",
       "      <td>1048576</td>\n",
       "      <td>NaN</td>\n",
       "      <td>24</td>\n",
       "      <td>mcc</td>\n",
       "      <td>0.436706</td>\n",
       "    </tr>\n",
       "    <tr>\n",
       "      <th>2526</th>\n",
       "      <td>2097152</td>\n",
       "      <td>NaN</td>\n",
       "      <td>24</td>\n",
       "      <td>mcc</td>\n",
       "      <td>0.459796</td>\n",
       "    </tr>\n",
       "    <tr>\n",
       "      <th>2643</th>\n",
       "      <td>4194304</td>\n",
       "      <td>NaN</td>\n",
       "      <td>24</td>\n",
       "      <td>mcc</td>\n",
       "      <td>0.505401</td>\n",
       "    </tr>\n",
       "    <tr>\n",
       "      <th>2760</th>\n",
       "      <td>8388608</td>\n",
       "      <td>NaN</td>\n",
       "      <td>24</td>\n",
       "      <td>mcc</td>\n",
       "      <td>0.359864</td>\n",
       "    </tr>\n",
       "    <tr>\n",
       "      <th>2877</th>\n",
       "      <td>16777216</td>\n",
       "      <td>NaN</td>\n",
       "      <td>24</td>\n",
       "      <td>mcc</td>\n",
       "      <td>0.202610</td>\n",
       "    </tr>\n",
       "    <tr>\n",
       "      <th>2994</th>\n",
       "      <td>33554432</td>\n",
       "      <td>NaN</td>\n",
       "      <td>24</td>\n",
       "      <td>mcc</td>\n",
       "      <td>0.316980</td>\n",
       "    </tr>\n",
       "    <tr>\n",
       "      <th>3111</th>\n",
       "      <td>67108864</td>\n",
       "      <td>NaN</td>\n",
       "      <td>24</td>\n",
       "      <td>mcc</td>\n",
       "      <td>0.261084</td>\n",
       "    </tr>\n",
       "    <tr>\n",
       "      <th>3228</th>\n",
       "      <td>134217728</td>\n",
       "      <td>NaN</td>\n",
       "      <td>24</td>\n",
       "      <td>mcc</td>\n",
       "      <td>0.432512</td>\n",
       "    </tr>\n",
       "    <tr>\n",
       "      <th>3345</th>\n",
       "      <td>268435456</td>\n",
       "      <td>NaN</td>\n",
       "      <td>24</td>\n",
       "      <td>mcc</td>\n",
       "      <td>0.369458</td>\n",
       "    </tr>\n",
       "    <tr>\n",
       "      <th>3462</th>\n",
       "      <td>536870912</td>\n",
       "      <td>NaN</td>\n",
       "      <td>24</td>\n",
       "      <td>mcc</td>\n",
       "      <td>0.436706</td>\n",
       "    </tr>\n",
       "    <tr>\n",
       "      <th>3579</th>\n",
       "      <td>42</td>\n",
       "      <td>NaN</td>\n",
       "      <td>24</td>\n",
       "      <td>mcc</td>\n",
       "      <td>0.495567</td>\n",
       "    </tr>\n",
       "  </tbody>\n",
       "</table>\n",
       "</div>"
      ],
      "text/plain": [
       "           seed  sigma  n_components metric     value\n",
       "69            1    NaN            24    mcc  0.288944\n",
       "186           2    NaN            24    mcc  0.432512\n",
       "303           4    NaN            24    mcc  0.513300\n",
       "420           8    NaN            24    mcc  0.269125\n",
       "537          16    NaN            24    mcc  0.316980\n",
       "654          32    NaN            24    mcc  0.465849\n",
       "771          64    NaN            24    mcc  0.379787\n",
       "888         128    NaN            24    mcc  0.470824\n",
       "1005        256    NaN            24    mcc  0.459796\n",
       "1122        512    NaN            24    mcc  0.396239\n",
       "1239       1024    NaN            24    mcc  0.603442\n",
       "1356       2048    NaN            24    mcc  0.442594\n",
       "1473       4096    NaN            24    mcc  0.248285\n",
       "1590       8192    NaN            24    mcc  0.373899\n",
       "1707      16384    NaN            24    mcc  0.316980\n",
       "1824      32768    NaN            24    mcc  0.465849\n",
       "1941      65536    NaN            24    mcc  0.485517\n",
       "2058     131072    NaN            24    mcc  0.324138\n",
       "2175     262144    NaN            24    mcc  0.423136\n",
       "2292     524288    NaN            24    mcc  0.470824\n",
       "2409    1048576    NaN            24    mcc  0.436706\n",
       "2526    2097152    NaN            24    mcc  0.459796\n",
       "2643    4194304    NaN            24    mcc  0.505401\n",
       "2760    8388608    NaN            24    mcc  0.359864\n",
       "2877   16777216    NaN            24    mcc  0.202610\n",
       "2994   33554432    NaN            24    mcc  0.316980\n",
       "3111   67108864    NaN            24    mcc  0.261084\n",
       "3228  134217728    NaN            24    mcc  0.432512\n",
       "3345  268435456    NaN            24    mcc  0.369458\n",
       "3462  536870912    NaN            24    mcc  0.436706\n",
       "3579         42    NaN            24    mcc  0.495567"
      ]
     },
     "execution_count": 9,
     "metadata": {},
     "output_type": "execute_result"
    }
   ],
   "source": [
    "selected_df"
   ]
  },
  {
   "cell_type": "code",
   "execution_count": null,
   "metadata": {},
   "outputs": [],
   "source": []
  },
  {
   "cell_type": "code",
   "execution_count": null,
   "metadata": {},
   "outputs": [],
   "source": []
  },
  {
   "cell_type": "markdown",
   "metadata": {},
   "source": [
    "### more aug"
   ]
  },
  {
   "cell_type": "code",
   "execution_count": 10,
   "metadata": {},
   "outputs": [
    {
     "data": {
      "application/vnd.jupyter.widget-view+json": {
       "model_id": "baed83afe2544388a72efb132b251b99",
       "version_major": 2,
       "version_minor": 0
      },
      "text/plain": [
       "HBox(children=(HTML(value=''), FloatProgress(value=0.0, max=31.0), HTML(value='')))"
      ]
     },
     "metadata": {},
     "output_type": "display_data"
    },
    {
     "data": {
      "application/vnd.jupyter.widget-view+json": {
       "model_id": "da8481f080c047448e3aff26d7fae214",
       "version_major": 2,
       "version_minor": 0
      },
      "text/plain": [
       "HBox(children=(HTML(value=''), FloatProgress(value=0.0, max=39.0), HTML(value='')))"
      ]
     },
     "metadata": {},
     "output_type": "display_data"
    },
    {
     "name": "stdout",
     "output_type": "stream",
     "text": [
      "\n"
     ]
    },
    {
     "name": "stderr",
     "output_type": "stream",
     "text": [
      "/usr/local/lib/python3.8/dist-packages/rcca/__init__.py:249: VisibleDeprecationWarning: Creating an ndarray from ragged nested sequences (which is a list-or-tuple of lists-or-tuples-or ndarrays with different lengths or shapes) is deprecated. If you meant to do this, you must specify 'dtype=object' when creating the ndarray\n",
      "  ccomp = np.array(ccomp)\n"
     ]
    },
    {
     "ename": "ValueError",
     "evalue": "operands could not be broadcast together with shapes (13,1) (14,1) ",
     "output_type": "error",
     "traceback": [
      "\u001b[0;31m---------------------------------------------------------------------------\u001b[0m",
      "\u001b[0;31mValueError\u001b[0m                                Traceback (most recent call last)",
      "\u001b[0;32m<ipython-input-10-c7c80ae91e0f>\u001b[0m in \u001b[0;36m<module>\u001b[0;34m\u001b[0m\n\u001b[1;32m     28\u001b[0m         \u001b[0mcca\u001b[0m \u001b[0;34m=\u001b[0m \u001b[0mrcca\u001b[0m\u001b[0;34m.\u001b[0m\u001b[0mCCA\u001b[0m\u001b[0;34m(\u001b[0m\u001b[0mreg\u001b[0m\u001b[0;34m=\u001b[0m\u001b[0;36m1.\u001b[0m\u001b[0;34m,\u001b[0m \u001b[0mnumCC\u001b[0m\u001b[0;34m=\u001b[0m\u001b[0mn_components\u001b[0m\u001b[0;34m,\u001b[0m \u001b[0mverbose\u001b[0m\u001b[0;34m=\u001b[0m\u001b[0;32mFalse\u001b[0m\u001b[0;34m)\u001b[0m\u001b[0;34m\u001b[0m\u001b[0;34m\u001b[0m\u001b[0m\n\u001b[1;32m     29\u001b[0m         \u001b[0mcca\u001b[0m\u001b[0;34m.\u001b[0m\u001b[0mtrain\u001b[0m\u001b[0;34m(\u001b[0m\u001b[0mlist\u001b[0m\u001b[0;34m(\u001b[0m\u001b[0maug_train_data\u001b[0m\u001b[0;34m.\u001b[0m\u001b[0mvalues\u001b[0m\u001b[0;34m(\u001b[0m\u001b[0;34m)\u001b[0m\u001b[0;34m)\u001b[0m\u001b[0;34m)\u001b[0m\u001b[0;34m\u001b[0m\u001b[0;34m\u001b[0m\u001b[0m\n\u001b[0;32m---> 30\u001b[0;31m         \u001b[0mev\u001b[0m \u001b[0;34m=\u001b[0m \u001b[0mcca\u001b[0m\u001b[0;34m.\u001b[0m\u001b[0mcompute_ev\u001b[0m\u001b[0;34m(\u001b[0m\u001b[0mlist\u001b[0m\u001b[0;34m(\u001b[0m\u001b[0mtest_data\u001b[0m\u001b[0;34m.\u001b[0m\u001b[0mvalues\u001b[0m\u001b[0;34m(\u001b[0m\u001b[0;34m)\u001b[0m\u001b[0;34m)\u001b[0m\u001b[0;34m)\u001b[0m\u001b[0;34m\u001b[0m\u001b[0;34m\u001b[0m\u001b[0m\n\u001b[0m\u001b[1;32m     31\u001b[0m \u001b[0;34m\u001b[0m\u001b[0m\n\u001b[1;32m     32\u001b[0m         \u001b[0mx_trn\u001b[0m \u001b[0;34m=\u001b[0m \u001b[0;34m[\u001b[0m\u001b[0mx\u001b[0m \u001b[0;34m@\u001b[0m \u001b[0mw\u001b[0m \u001b[0;32mfor\u001b[0m \u001b[0mx\u001b[0m\u001b[0;34m,\u001b[0m \u001b[0mw\u001b[0m \u001b[0;32min\u001b[0m \u001b[0mzip\u001b[0m\u001b[0;34m(\u001b[0m\u001b[0mtrain_data\u001b[0m\u001b[0;34m.\u001b[0m\u001b[0mvalues\u001b[0m\u001b[0;34m(\u001b[0m\u001b[0;34m)\u001b[0m\u001b[0;34m,\u001b[0m \u001b[0mcca\u001b[0m\u001b[0;34m.\u001b[0m\u001b[0mws\u001b[0m\u001b[0;34m)\u001b[0m\u001b[0;34m]\u001b[0m\u001b[0;34m\u001b[0m\u001b[0;34m\u001b[0m\u001b[0m\n",
      "\u001b[0;32m/usr/local/lib/python3.8/dist-packages/rcca/__init__.py\u001b[0m in \u001b[0;36mcompute_ev\u001b[0;34m(self, vdata)\u001b[0m\n\u001b[1;32m     61\u001b[0m             \u001b[0;32mif\u001b[0m \u001b[0mself\u001b[0m\u001b[0;34m.\u001b[0m\u001b[0mverbose\u001b[0m\u001b[0;34m:\u001b[0m\u001b[0;34m\u001b[0m\u001b[0;34m\u001b[0m\u001b[0m\n\u001b[1;32m     62\u001b[0m                 \u001b[0mprint\u001b[0m\u001b[0;34m(\u001b[0m\u001b[0;34m'Computing explained variance for component #%d'\u001b[0m \u001b[0;34m%\u001b[0m \u001b[0mccs\u001b[0m\u001b[0;34m)\u001b[0m\u001b[0;34m\u001b[0m\u001b[0;34m\u001b[0m\u001b[0m\n\u001b[0;32m---> 63\u001b[0;31m             preds, corrs = predict(vdata, [w[:, ccs-1:ccs] for w in self.ws],\n\u001b[0m\u001b[1;32m     64\u001b[0m                                    self.cutoff)\n\u001b[1;32m     65\u001b[0m             \u001b[0mresids\u001b[0m \u001b[0;34m=\u001b[0m \u001b[0;34m[\u001b[0m\u001b[0mabs\u001b[0m\u001b[0;34m(\u001b[0m\u001b[0md\u001b[0m\u001b[0;34m[\u001b[0m\u001b[0;36m0\u001b[0m\u001b[0;34m]\u001b[0m\u001b[0;34m-\u001b[0m\u001b[0md\u001b[0m\u001b[0;34m[\u001b[0m\u001b[0;36m1\u001b[0m\u001b[0;34m]\u001b[0m\u001b[0;34m)\u001b[0m \u001b[0;32mfor\u001b[0m \u001b[0md\u001b[0m \u001b[0;32min\u001b[0m \u001b[0mzip\u001b[0m\u001b[0;34m(\u001b[0m\u001b[0mvdata\u001b[0m\u001b[0;34m,\u001b[0m \u001b[0mpreds\u001b[0m\u001b[0;34m)\u001b[0m\u001b[0;34m]\u001b[0m\u001b[0;34m\u001b[0m\u001b[0;34m\u001b[0m\u001b[0m\n",
      "\u001b[0;32m/usr/local/lib/python3.8/dist-packages/rcca/__init__.py\u001b[0m in \u001b[0;36mpredict\u001b[0;34m(vdata, ws, cutoff)\u001b[0m\n\u001b[1;32m    254\u001b[0m         \u001b[0midx\u001b[0m \u001b[0;34m=\u001b[0m \u001b[0mnp\u001b[0m\u001b[0;34m.\u001b[0m\u001b[0mones\u001b[0m\u001b[0;34m(\u001b[0m\u001b[0;34m(\u001b[0m\u001b[0mlen\u001b[0m\u001b[0;34m(\u001b[0m\u001b[0mvdata\u001b[0m\u001b[0;34m)\u001b[0m\u001b[0;34m,\u001b[0m\u001b[0;34m)\u001b[0m\u001b[0;34m)\u001b[0m\u001b[0;34m\u001b[0m\u001b[0;34m\u001b[0m\u001b[0m\n\u001b[1;32m    255\u001b[0m         \u001b[0midx\u001b[0m\u001b[0;34m[\u001b[0m\u001b[0mdnum\u001b[0m\u001b[0;34m]\u001b[0m \u001b[0;34m=\u001b[0m \u001b[0;32mFalse\u001b[0m\u001b[0;34m\u001b[0m\u001b[0;34m\u001b[0m\u001b[0m\n\u001b[0;32m--> 256\u001b[0;31m         \u001b[0mproj\u001b[0m \u001b[0;34m=\u001b[0m \u001b[0mccomp\u001b[0m\u001b[0;34m[\u001b[0m\u001b[0midx\u001b[0m \u001b[0;34m>\u001b[0m \u001b[0;36m0\u001b[0m\u001b[0;34m]\u001b[0m\u001b[0;34m.\u001b[0m\u001b[0mmean\u001b[0m\u001b[0;34m(\u001b[0m\u001b[0;36m0\u001b[0m\u001b[0;34m)\u001b[0m\u001b[0;34m\u001b[0m\u001b[0;34m\u001b[0m\u001b[0m\n\u001b[0m\u001b[1;32m    257\u001b[0m         \u001b[0mpred\u001b[0m \u001b[0;34m=\u001b[0m \u001b[0mnp\u001b[0m\u001b[0;34m.\u001b[0m\u001b[0mdot\u001b[0m\u001b[0;34m(\u001b[0m\u001b[0miws\u001b[0m\u001b[0;34m[\u001b[0m\u001b[0mdnum\u001b[0m\u001b[0;34m]\u001b[0m\u001b[0;34m,\u001b[0m \u001b[0mproj\u001b[0m\u001b[0;34m.\u001b[0m\u001b[0mT\u001b[0m\u001b[0;34m)\u001b[0m\u001b[0;34m.\u001b[0m\u001b[0mT\u001b[0m\u001b[0;34m\u001b[0m\u001b[0;34m\u001b[0m\u001b[0m\n\u001b[1;32m    258\u001b[0m         \u001b[0mpred\u001b[0m \u001b[0;34m=\u001b[0m \u001b[0mnp\u001b[0m\u001b[0;34m.\u001b[0m\u001b[0mnan_to_num\u001b[0m\u001b[0;34m(\u001b[0m\u001b[0m_zscore\u001b[0m\u001b[0;34m(\u001b[0m\u001b[0mpred\u001b[0m\u001b[0;34m)\u001b[0m\u001b[0;34m)\u001b[0m\u001b[0;34m\u001b[0m\u001b[0;34m\u001b[0m\u001b[0m\n",
      "\u001b[0;32m~/.local/lib/python3.8/site-packages/numpy/core/_methods.py\u001b[0m in \u001b[0;36m_mean\u001b[0;34m(a, axis, dtype, out, keepdims)\u001b[0m\n\u001b[1;32m    158\u001b[0m             \u001b[0mis_float16_result\u001b[0m \u001b[0;34m=\u001b[0m \u001b[0;32mTrue\u001b[0m\u001b[0;34m\u001b[0m\u001b[0;34m\u001b[0m\u001b[0m\n\u001b[1;32m    159\u001b[0m \u001b[0;34m\u001b[0m\u001b[0m\n\u001b[0;32m--> 160\u001b[0;31m     \u001b[0mret\u001b[0m \u001b[0;34m=\u001b[0m \u001b[0mumr_sum\u001b[0m\u001b[0;34m(\u001b[0m\u001b[0marr\u001b[0m\u001b[0;34m,\u001b[0m \u001b[0maxis\u001b[0m\u001b[0;34m,\u001b[0m \u001b[0mdtype\u001b[0m\u001b[0;34m,\u001b[0m \u001b[0mout\u001b[0m\u001b[0;34m,\u001b[0m \u001b[0mkeepdims\u001b[0m\u001b[0;34m)\u001b[0m\u001b[0;34m\u001b[0m\u001b[0;34m\u001b[0m\u001b[0m\n\u001b[0m\u001b[1;32m    161\u001b[0m     \u001b[0;32mif\u001b[0m \u001b[0misinstance\u001b[0m\u001b[0;34m(\u001b[0m\u001b[0mret\u001b[0m\u001b[0;34m,\u001b[0m \u001b[0mmu\u001b[0m\u001b[0;34m.\u001b[0m\u001b[0mndarray\u001b[0m\u001b[0;34m)\u001b[0m\u001b[0;34m:\u001b[0m\u001b[0;34m\u001b[0m\u001b[0;34m\u001b[0m\u001b[0m\n\u001b[1;32m    162\u001b[0m         ret = um.true_divide(\n",
      "\u001b[0;31mValueError\u001b[0m: operands could not be broadcast together with shapes (13,1) (14,1) "
     ]
    }
   ],
   "source": [
    "max_components = 40\n",
    "seeds = [np.power(2, i) for i in range(30)]\n",
    "seeds += [42]\n",
    "\n",
    "results = pd.DataFrame()\n",
    "\n",
    "for seed in tqdm(seeds):\n",
    "    random.seed(seed)\n",
    "    np.random.seed(seed)\n",
    "    \n",
    "    output = prepare_data(\n",
    "        h_load_file=dirs_dict['h_load_file'],\n",
    "        timepoint=45,\n",
    "        augment=True,\n",
    "        sigma=0.3,\n",
    "        nb_end_samples=300,\n",
    "        nb_min_samples=100,\n",
    "        random_state=seed,\n",
    "    )\n",
    "    aug_train_data = output['aug_train_data']\n",
    "    # aug_train_labels = output['aug_train_labels']\n",
    "    train_data = output['train_data']\n",
    "    train_labels = output['train_labels']\n",
    "    test_data = output['test_data']\n",
    "    test_labels = output['test_labels']\n",
    "    \n",
    "    for n_components in tqdm(range(1, max_components), leave=False):\n",
    "        cca = rcca.CCA(reg=1., numCC=n_components, verbose=False)\n",
    "        cca.train(list(aug_train_data.values()))\n",
    "        ev = cca.compute_ev(list(test_data.values()))\n",
    "\n",
    "        x_trn = [x @ w for x, w in zip(train_data.values(), cca.ws)]\n",
    "        x_tst = [x @ w for x, w in zip(test_data.values(), cca.ws)]    \n",
    "        y_trn = [item for item in train_labels.values()]\n",
    "        y_tst = [item for item in test_labels.values()]\n",
    "        x_trn, x_tst, y_trn, y_tst = tuple(map(np.concatenate, [x_trn, x_tst, y_trn, y_tst]))\n",
    "\n",
    "        clf = LogisticRegression(\n",
    "            random_state=seed,\n",
    "            penalty='l1',\n",
    "            C=1.,\n",
    "            solver='liblinear',\n",
    "            class_weight='balanced',\n",
    "            max_iter=int(1e6),\n",
    "        ).fit(x_trn, y_trn)\n",
    "        y_pred = clf.predict(x_tst)\n",
    "\n",
    "        balacc = balanced_accuracy_score(y_tst, y_pred)\n",
    "        f1 = f1_score(y_tst, y_pred)\n",
    "        mcc = matthews_corrcoef(y_tst, y_pred)\n",
    "\n",
    "        data_dict = {\n",
    "            'seed': [seed] * 4,\n",
    "            'sigma': [np.nan] * 4,\n",
    "            'n_components': [n_components] * 4,\n",
    "            'metric': ['mcc', 'f1', 'balacc', 'ev'],\n",
    "            'value': [mcc, balacc, f1, np.mean([item.max(0).mean() for item in ev])],\n",
    "        }\n",
    "        results = pd.concat([results, pd.DataFrame.from_dict(data_dict)])\n",
    "\n",
    "results = reset_df(results)"
   ]
  },
  {
   "cell_type": "code",
   "execution_count": null,
   "metadata": {},
   "outputs": [],
   "source": [
    "plt.figure(figsize=(10, 8))\n",
    "sns.lineplot(data=results, x='n_components', y='value', hue='metric',\n",
    "             style='metric', markers=True, dashes=False, lw=2, markersize=5)\n",
    "plt.ylabel('%')\n",
    "plt.grid()\n",
    "\n",
    "selected_df = results.loc[results.metric == 'mcc']\n",
    "performance = selected_df.groupby('n_components').mean()\n",
    "best_n_components = performance.iloc[performance.value.argmax()].name\n",
    "selected_df = selected_df.loc[selected_df.n_components == best_n_components]\n",
    "\n",
    "plt.axvline(best_n_components, ls=':', color='k', alpha=0.5)\n",
    "\n",
    "msg = '# componens vs. explained variance (red curve), and classification performance \\n'\n",
    "msg += 'performance increases as we introduce more and more components, then gradually drops\\n\\n'\n",
    "msg += 'best # components: {:d}\\n'\n",
    "msg += 'best avg performance:  i) mcc = {:.3f},  ii) f1 score = {:.3f},  iii) balanced accuracy = {:.3f}'\n",
    "avg_mcc = results.loc[(results.metric == 'mcc') & (results.n_components == best_n_components)].value.mean()\n",
    "avg_f1 = results.loc[(results.metric == 'f1') & (results.n_components == best_n_components)].value.mean()\n",
    "avg_balacc = results.loc[(results.metric == 'balacc') & (results.n_components == best_n_components)].value.mean()\n",
    "msg = msg.format(best_n_components, avg_mcc, avg_f1, avg_balacc)\n",
    "plt.suptitle(msg, fontsize=13, y=1.01)\n",
    "plt.tight_layout()\n",
    "plt.show()"
   ]
  },
  {
   "cell_type": "code",
   "execution_count": null,
   "metadata": {},
   "outputs": [],
   "source": [
    "selected_df"
   ]
  },
  {
   "cell_type": "code",
   "execution_count": null,
   "metadata": {},
   "outputs": [],
   "source": []
  },
  {
   "cell_type": "code",
   "execution_count": null,
   "metadata": {},
   "outputs": [],
   "source": []
  },
  {
   "cell_type": "markdown",
   "metadata": {},
   "source": [
    "### more aug / all data"
   ]
  },
  {
   "cell_type": "code",
   "execution_count": 18,
   "metadata": {},
   "outputs": [
    {
     "data": {
      "application/vnd.jupyter.widget-view+json": {
       "model_id": "261514b9b2534bb09c9c133913a5486e",
       "version_major": 2,
       "version_minor": 0
      },
      "text/plain": [
       "HBox(children=(HTML(value=''), FloatProgress(value=0.0, max=21.0), HTML(value='')))"
      ]
     },
     "metadata": {},
     "output_type": "display_data"
    },
    {
     "data": {
      "application/vnd.jupyter.widget-view+json": {
       "model_id": "",
       "version_major": 2,
       "version_minor": 0
      },
      "text/plain": [
       "HBox(children=(HTML(value=''), FloatProgress(value=0.0, max=39.0), HTML(value='')))"
      ]
     },
     "metadata": {},
     "output_type": "display_data"
    },
    {
     "data": {
      "application/vnd.jupyter.widget-view+json": {
       "model_id": "",
       "version_major": 2,
       "version_minor": 0
      },
      "text/plain": [
       "HBox(children=(HTML(value=''), FloatProgress(value=0.0, max=39.0), HTML(value='')))"
      ]
     },
     "metadata": {},
     "output_type": "display_data"
    },
    {
     "data": {
      "application/vnd.jupyter.widget-view+json": {
       "model_id": "",
       "version_major": 2,
       "version_minor": 0
      },
      "text/plain": [
       "HBox(children=(HTML(value=''), FloatProgress(value=0.0, max=39.0), HTML(value='')))"
      ]
     },
     "metadata": {},
     "output_type": "display_data"
    },
    {
     "data": {
      "application/vnd.jupyter.widget-view+json": {
       "model_id": "",
       "version_major": 2,
       "version_minor": 0
      },
      "text/plain": [
       "HBox(children=(HTML(value=''), FloatProgress(value=0.0, max=39.0), HTML(value='')))"
      ]
     },
     "metadata": {},
     "output_type": "display_data"
    },
    {
     "data": {
      "application/vnd.jupyter.widget-view+json": {
       "model_id": "",
       "version_major": 2,
       "version_minor": 0
      },
      "text/plain": [
       "HBox(children=(HTML(value=''), FloatProgress(value=0.0, max=39.0), HTML(value='')))"
      ]
     },
     "metadata": {},
     "output_type": "display_data"
    },
    {
     "data": {
      "application/vnd.jupyter.widget-view+json": {
       "model_id": "",
       "version_major": 2,
       "version_minor": 0
      },
      "text/plain": [
       "HBox(children=(HTML(value=''), FloatProgress(value=0.0, max=39.0), HTML(value='')))"
      ]
     },
     "metadata": {},
     "output_type": "display_data"
    },
    {
     "data": {
      "application/vnd.jupyter.widget-view+json": {
       "model_id": "",
       "version_major": 2,
       "version_minor": 0
      },
      "text/plain": [
       "HBox(children=(HTML(value=''), FloatProgress(value=0.0, max=39.0), HTML(value='')))"
      ]
     },
     "metadata": {},
     "output_type": "display_data"
    },
    {
     "data": {
      "application/vnd.jupyter.widget-view+json": {
       "model_id": "",
       "version_major": 2,
       "version_minor": 0
      },
      "text/plain": [
       "HBox(children=(HTML(value=''), FloatProgress(value=0.0, max=39.0), HTML(value='')))"
      ]
     },
     "metadata": {},
     "output_type": "display_data"
    },
    {
     "data": {
      "application/vnd.jupyter.widget-view+json": {
       "model_id": "",
       "version_major": 2,
       "version_minor": 0
      },
      "text/plain": [
       "HBox(children=(HTML(value=''), FloatProgress(value=0.0, max=39.0), HTML(value='')))"
      ]
     },
     "metadata": {},
     "output_type": "display_data"
    },
    {
     "data": {
      "application/vnd.jupyter.widget-view+json": {
       "model_id": "",
       "version_major": 2,
       "version_minor": 0
      },
      "text/plain": [
       "HBox(children=(HTML(value=''), FloatProgress(value=0.0, max=39.0), HTML(value='')))"
      ]
     },
     "metadata": {},
     "output_type": "display_data"
    },
    {
     "data": {
      "application/vnd.jupyter.widget-view+json": {
       "model_id": "",
       "version_major": 2,
       "version_minor": 0
      },
      "text/plain": [
       "HBox(children=(HTML(value=''), FloatProgress(value=0.0, max=39.0), HTML(value='')))"
      ]
     },
     "metadata": {},
     "output_type": "display_data"
    },
    {
     "data": {
      "application/vnd.jupyter.widget-view+json": {
       "model_id": "",
       "version_major": 2,
       "version_minor": 0
      },
      "text/plain": [
       "HBox(children=(HTML(value=''), FloatProgress(value=0.0, max=39.0), HTML(value='')))"
      ]
     },
     "metadata": {},
     "output_type": "display_data"
    },
    {
     "data": {
      "application/vnd.jupyter.widget-view+json": {
       "model_id": "",
       "version_major": 2,
       "version_minor": 0
      },
      "text/plain": [
       "HBox(children=(HTML(value=''), FloatProgress(value=0.0, max=39.0), HTML(value='')))"
      ]
     },
     "metadata": {},
     "output_type": "display_data"
    },
    {
     "data": {
      "application/vnd.jupyter.widget-view+json": {
       "model_id": "",
       "version_major": 2,
       "version_minor": 0
      },
      "text/plain": [
       "HBox(children=(HTML(value=''), FloatProgress(value=0.0, max=39.0), HTML(value='')))"
      ]
     },
     "metadata": {},
     "output_type": "display_data"
    },
    {
     "data": {
      "application/vnd.jupyter.widget-view+json": {
       "model_id": "",
       "version_major": 2,
       "version_minor": 0
      },
      "text/plain": [
       "HBox(children=(HTML(value=''), FloatProgress(value=0.0, max=39.0), HTML(value='')))"
      ]
     },
     "metadata": {},
     "output_type": "display_data"
    },
    {
     "data": {
      "application/vnd.jupyter.widget-view+json": {
       "model_id": "",
       "version_major": 2,
       "version_minor": 0
      },
      "text/plain": [
       "HBox(children=(HTML(value=''), FloatProgress(value=0.0, max=39.0), HTML(value='')))"
      ]
     },
     "metadata": {},
     "output_type": "display_data"
    },
    {
     "data": {
      "application/vnd.jupyter.widget-view+json": {
       "model_id": "",
       "version_major": 2,
       "version_minor": 0
      },
      "text/plain": [
       "HBox(children=(HTML(value=''), FloatProgress(value=0.0, max=39.0), HTML(value='')))"
      ]
     },
     "metadata": {},
     "output_type": "display_data"
    },
    {
     "data": {
      "application/vnd.jupyter.widget-view+json": {
       "model_id": "",
       "version_major": 2,
       "version_minor": 0
      },
      "text/plain": [
       "HBox(children=(HTML(value=''), FloatProgress(value=0.0, max=39.0), HTML(value='')))"
      ]
     },
     "metadata": {},
     "output_type": "display_data"
    },
    {
     "data": {
      "application/vnd.jupyter.widget-view+json": {
       "model_id": "",
       "version_major": 2,
       "version_minor": 0
      },
      "text/plain": [
       "HBox(children=(HTML(value=''), FloatProgress(value=0.0, max=39.0), HTML(value='')))"
      ]
     },
     "metadata": {},
     "output_type": "display_data"
    },
    {
     "data": {
      "application/vnd.jupyter.widget-view+json": {
       "model_id": "",
       "version_major": 2,
       "version_minor": 0
      },
      "text/plain": [
       "HBox(children=(HTML(value=''), FloatProgress(value=0.0, max=39.0), HTML(value='')))"
      ]
     },
     "metadata": {},
     "output_type": "display_data"
    },
    {
     "data": {
      "application/vnd.jupyter.widget-view+json": {
       "model_id": "",
       "version_major": 2,
       "version_minor": 0
      },
      "text/plain": [
       "HBox(children=(HTML(value=''), FloatProgress(value=0.0, max=39.0), HTML(value='')))"
      ]
     },
     "metadata": {},
     "output_type": "display_data"
    },
    {
     "name": "stdout",
     "output_type": "stream",
     "text": [
      "\n"
     ]
    }
   ],
   "source": [
    "max_components = 40\n",
    "seeds = [np.power(2, i) for i in range(20)]\n",
    "seeds += [42]\n",
    "\n",
    "results = pd.DataFrame()\n",
    "\n",
    "for seed in tqdm(seeds):\n",
    "    random.seed(seed)\n",
    "    np.random.seed(seed)\n",
    "    \n",
    "    output = prepare_data(\n",
    "        h_load_file=dirs_dict['h_load_file'],\n",
    "        timepoint=45,\n",
    "        augment=True,\n",
    "        sigma=0.3,\n",
    "        nb_end_samples=150,\n",
    "        nb_min_samples=30,\n",
    "        random_state=seed,\n",
    "    )\n",
    "    aug_train_data = output['aug_train_data']\n",
    "    # aug_train_labels = output['aug_train_labels']\n",
    "    train_data = output['train_data']\n",
    "    train_labels = output['train_labels']\n",
    "    test_data = output['test_data']\n",
    "    test_labels = output['test_labels']\n",
    "    \n",
    "    for n_components in tqdm(range(1, max_components), leave=False):\n",
    "        cca = rcca.CCA(reg=1., numCC=n_components, verbose=False)\n",
    "        cca.train(list(aug_train_data.values()))\n",
    "        # ev = cca.compute_ev(list(test_data.values()))\n",
    "\n",
    "        x_trn = [x @ w for x, w in zip(train_data.values(), cca.ws)]\n",
    "        x_tst = [x @ w for x, w in zip(test_data.values(), cca.ws)]    \n",
    "        y_trn = [item for item in train_labels.values()]\n",
    "        y_tst = [item for item in test_labels.values()]\n",
    "        x_trn, x_tst, y_trn, y_tst = tuple(map(np.concatenate, [x_trn, x_tst, y_trn, y_tst]))\n",
    "\n",
    "        clf = LogisticRegression(\n",
    "            random_state=seed,\n",
    "            penalty='l1',\n",
    "            C=1.,\n",
    "            solver='liblinear',\n",
    "            class_weight='balanced',\n",
    "            max_iter=int(1e6),\n",
    "        ).fit(x_trn, y_trn)\n",
    "        y_pred = clf.predict(x_tst)\n",
    "\n",
    "        balacc = balanced_accuracy_score(y_tst, y_pred)\n",
    "        f1 = f1_score(y_tst, y_pred)\n",
    "        mcc = matthews_corrcoef(y_tst, y_pred)\n",
    "\n",
    "        data_dict = {\n",
    "            'seed': [seed] * 3,\n",
    "            'sigma': [np.nan] * 3,\n",
    "            'n_components': [n_components] * 3,\n",
    "            'metric': ['mcc', 'f1', 'balacc'],\n",
    "            'value': [mcc, balacc, f1],\n",
    "        }\n",
    "        results = pd.concat([results, pd.DataFrame.from_dict(data_dict)])\n",
    "\n",
    "results = reset_df(results)"
   ]
  },
  {
   "cell_type": "code",
   "execution_count": 19,
   "metadata": {},
   "outputs": [
    {
     "data": {
      "image/png": "[encoded data removed]",
      "text/plain": [
       "<Figure size 720x576 with 1 Axes>"
      ]
     },
     "metadata": {},
     "output_type": "display_data"
    }
   ],
   "source": [
    "plt.figure(figsize=(10, 8))\n",
    "sns.lineplot(data=results, x='n_components', y='value', hue='metric',\n",
    "             style='metric', markers=True, dashes=False, lw=2, markersize=5)\n",
    "plt.ylabel('%')\n",
    "plt.grid()\n",
    "\n",
    "selected_df = results.loc[results.metric == 'mcc']\n",
    "performance = selected_df.groupby('n_components').mean()\n",
    "best_n_components = performance.iloc[performance.value.argmax()].name\n",
    "selected_df = selected_df.loc[selected_df.n_components == best_n_components]\n",
    "\n",
    "plt.axvline(best_n_components, ls=':', color='k', alpha=0.5)\n",
    "\n",
    "msg = '# componens vs. explained variance (red curve), and classification performance \\n'\n",
    "msg += 'performance increases as we introduce more and more components, then gradually drops\\n\\n'\n",
    "msg += 'best # components: {:d}\\n'\n",
    "msg += 'best avg performance:  i) mcc = {:.3f},  ii) f1 score = {:.3f},  iii) balanced accuracy = {:.3f}'\n",
    "avg_mcc = results.loc[(results.metric == 'mcc') & (results.n_components == best_n_components)].value.mean()\n",
    "avg_f1 = results.loc[(results.metric == 'f1') & (results.n_components == best_n_components)].value.mean()\n",
    "avg_balacc = results.loc[(results.metric == 'balacc') & (results.n_components == best_n_components)].value.mean()\n",
    "msg = msg.format(best_n_components, avg_mcc, avg_f1, avg_balacc)\n",
    "plt.suptitle(msg, fontsize=13, y=1.01)\n",
    "plt.tight_layout()\n",
    "plt.show()"
   ]
  },
  {
   "cell_type": "code",
   "execution_count": 20,
   "metadata": {},
   "outputs": [
    {
     "data": {
      "text/html": [
       "<div>\n",
       "<style scoped>\n",
       "    .dataframe tbody tr th:only-of-type {\n",
       "        vertical-align: middle;\n",
       "    }\n",
       "\n",
       "    .dataframe tbody tr th {\n",
       "        vertical-align: top;\n",
       "    }\n",
       "\n",
       "    .dataframe thead th {\n",
       "        text-align: right;\n",
       "    }\n",
       "</style>\n",
       "<table border=\"1\" class=\"dataframe\">\n",
       "  <thead>\n",
       "    <tr style=\"text-align: right;\">\n",
       "      <th></th>\n",
       "      <th>seed</th>\n",
       "      <th>sigma</th>\n",
       "      <th>n_components</th>\n",
       "      <th>metric</th>\n",
       "      <th>value</th>\n",
       "    </tr>\n",
       "  </thead>\n",
       "  <tbody>\n",
       "    <tr>\n",
       "      <th>111</th>\n",
       "      <td>1</td>\n",
       "      <td>NaN</td>\n",
       "      <td>38</td>\n",
       "      <td>mcc</td>\n",
       "      <td>0.196640</td>\n",
       "    </tr>\n",
       "    <tr>\n",
       "      <th>228</th>\n",
       "      <td>2</td>\n",
       "      <td>NaN</td>\n",
       "      <td>38</td>\n",
       "      <td>mcc</td>\n",
       "      <td>0.168664</td>\n",
       "    </tr>\n",
       "    <tr>\n",
       "      <th>345</th>\n",
       "      <td>4</td>\n",
       "      <td>NaN</td>\n",
       "      <td>38</td>\n",
       "      <td>mcc</td>\n",
       "      <td>0.216517</td>\n",
       "    </tr>\n",
       "    <tr>\n",
       "      <th>462</th>\n",
       "      <td>8</td>\n",
       "      <td>NaN</td>\n",
       "      <td>38</td>\n",
       "      <td>mcc</td>\n",
       "      <td>0.273217</td>\n",
       "    </tr>\n",
       "    <tr>\n",
       "      <th>579</th>\n",
       "      <td>16</td>\n",
       "      <td>NaN</td>\n",
       "      <td>38</td>\n",
       "      <td>mcc</td>\n",
       "      <td>0.252466</td>\n",
       "    </tr>\n",
       "    <tr>\n",
       "      <th>696</th>\n",
       "      <td>32</td>\n",
       "      <td>NaN</td>\n",
       "      <td>38</td>\n",
       "      <td>mcc</td>\n",
       "      <td>0.315904</td>\n",
       "    </tr>\n",
       "    <tr>\n",
       "      <th>813</th>\n",
       "      <td>64</td>\n",
       "      <td>NaN</td>\n",
       "      <td>38</td>\n",
       "      <td>mcc</td>\n",
       "      <td>0.208521</td>\n",
       "    </tr>\n",
       "    <tr>\n",
       "      <th>930</th>\n",
       "      <td>128</td>\n",
       "      <td>NaN</td>\n",
       "      <td>38</td>\n",
       "      <td>mcc</td>\n",
       "      <td>0.164668</td>\n",
       "    </tr>\n",
       "    <tr>\n",
       "      <th>1047</th>\n",
       "      <td>256</td>\n",
       "      <td>NaN</td>\n",
       "      <td>38</td>\n",
       "      <td>mcc</td>\n",
       "      <td>0.208509</td>\n",
       "    </tr>\n",
       "    <tr>\n",
       "      <th>1164</th>\n",
       "      <td>512</td>\n",
       "      <td>NaN</td>\n",
       "      <td>38</td>\n",
       "      <td>mcc</td>\n",
       "      <td>0.260438</td>\n",
       "    </tr>\n",
       "    <tr>\n",
       "      <th>1281</th>\n",
       "      <td>1024</td>\n",
       "      <td>NaN</td>\n",
       "      <td>38</td>\n",
       "      <td>mcc</td>\n",
       "      <td>0.184793</td>\n",
       "    </tr>\n",
       "    <tr>\n",
       "      <th>1398</th>\n",
       "      <td>2048</td>\n",
       "      <td>NaN</td>\n",
       "      <td>38</td>\n",
       "      <td>mcc</td>\n",
       "      <td>0.321267</td>\n",
       "    </tr>\n",
       "    <tr>\n",
       "      <th>1515</th>\n",
       "      <td>4096</td>\n",
       "      <td>NaN</td>\n",
       "      <td>38</td>\n",
       "      <td>mcc</td>\n",
       "      <td>0.281437</td>\n",
       "    </tr>\n",
       "    <tr>\n",
       "      <th>1632</th>\n",
       "      <td>8192</td>\n",
       "      <td>NaN</td>\n",
       "      <td>38</td>\n",
       "      <td>mcc</td>\n",
       "      <td>0.240494</td>\n",
       "    </tr>\n",
       "    <tr>\n",
       "      <th>1749</th>\n",
       "      <td>16384</td>\n",
       "      <td>NaN</td>\n",
       "      <td>38</td>\n",
       "      <td>mcc</td>\n",
       "      <td>0.292503</td>\n",
       "    </tr>\n",
       "    <tr>\n",
       "      <th>1866</th>\n",
       "      <td>32768</td>\n",
       "      <td>NaN</td>\n",
       "      <td>38</td>\n",
       "      <td>mcc</td>\n",
       "      <td>0.228875</td>\n",
       "    </tr>\n",
       "    <tr>\n",
       "      <th>1983</th>\n",
       "      <td>65536</td>\n",
       "      <td>NaN</td>\n",
       "      <td>38</td>\n",
       "      <td>mcc</td>\n",
       "      <td>0.172965</td>\n",
       "    </tr>\n",
       "    <tr>\n",
       "      <th>2100</th>\n",
       "      <td>131072</td>\n",
       "      <td>NaN</td>\n",
       "      <td>38</td>\n",
       "      <td>mcc</td>\n",
       "      <td>0.236395</td>\n",
       "    </tr>\n",
       "    <tr>\n",
       "      <th>2217</th>\n",
       "      <td>262144</td>\n",
       "      <td>NaN</td>\n",
       "      <td>38</td>\n",
       "      <td>mcc</td>\n",
       "      <td>0.218215</td>\n",
       "    </tr>\n",
       "    <tr>\n",
       "      <th>2334</th>\n",
       "      <td>524288</td>\n",
       "      <td>NaN</td>\n",
       "      <td>38</td>\n",
       "      <td>mcc</td>\n",
       "      <td>0.296900</td>\n",
       "    </tr>\n",
       "    <tr>\n",
       "      <th>2451</th>\n",
       "      <td>42</td>\n",
       "      <td>NaN</td>\n",
       "      <td>38</td>\n",
       "      <td>mcc</td>\n",
       "      <td>0.324715</td>\n",
       "    </tr>\n",
       "  </tbody>\n",
       "</table>\n",
       "</div>"
      ],
      "text/plain": [
       "        seed  sigma  n_components metric     value\n",
       "111        1    NaN            38    mcc  0.196640\n",
       "228        2    NaN            38    mcc  0.168664\n",
       "345        4    NaN            38    mcc  0.216517\n",
       "462        8    NaN            38    mcc  0.273217\n",
       "579       16    NaN            38    mcc  0.252466\n",
       "696       32    NaN            38    mcc  0.315904\n",
       "813       64    NaN            38    mcc  0.208521\n",
       "930      128    NaN            38    mcc  0.164668\n",
       "1047     256    NaN            38    mcc  0.208509\n",
       "1164     512    NaN            38    mcc  0.260438\n",
       "1281    1024    NaN            38    mcc  0.184793\n",
       "1398    2048    NaN            38    mcc  0.321267\n",
       "1515    4096    NaN            38    mcc  0.281437\n",
       "1632    8192    NaN            38    mcc  0.240494\n",
       "1749   16384    NaN            38    mcc  0.292503\n",
       "1866   32768    NaN            38    mcc  0.228875\n",
       "1983   65536    NaN            38    mcc  0.172965\n",
       "2100  131072    NaN            38    mcc  0.236395\n",
       "2217  262144    NaN            38    mcc  0.218215\n",
       "2334  524288    NaN            38    mcc  0.296900\n",
       "2451      42    NaN            38    mcc  0.324715"
      ]
     },
     "execution_count": 20,
     "metadata": {},
     "output_type": "execute_result"
    }
   ],
   "source": [
    "selected_df"
   ]
  },
  {
   "cell_type": "code",
   "execution_count": null,
   "metadata": {},
   "outputs": [],
   "source": []
  },
  {
   "cell_type": "code",
   "execution_count": null,
   "metadata": {},
   "outputs": [],
   "source": []
  },
  {
   "cell_type": "code",
   "execution_count": null,
   "metadata": {},
   "outputs": [],
   "source": []
  },
  {
   "cell_type": "code",
   "execution_count": null,
   "metadata": {},
   "outputs": [],
   "source": []
  },
  {
   "cell_type": "code",
   "execution_count": null,
   "metadata": {},
   "outputs": [],
   "source": []
  },
  {
   "cell_type": "code",
   "execution_count": null,
   "metadata": {},
   "outputs": [],
   "source": []
  },
  {
   "cell_type": "code",
   "execution_count": null,
   "metadata": {},
   "outputs": [],
   "source": []
  },
  {
   "cell_type": "markdown",
   "metadata": {},
   "source": [
    "## Discussion\n",
    "### ???"
   ]
  },
  {
   "cell_type": "code",
   "execution_count": null,
   "metadata": {},
   "outputs": [],
   "source": []
  },
  {
   "cell_type": "code",
   "execution_count": null,
   "metadata": {},
   "outputs": [],
   "source": []
  },
  {
   "cell_type": "code",
   "execution_count": null,
   "metadata": {},
   "outputs": [],
   "source": []
  }
 ],
 "metadata": {
  "kernelspec": {
   "display_name": "Python 3",
   "language": "python",
   "name": "python3"
  },
  "language_info": {
   "codemirror_mode": {
    "name": "ipython",
    "version": 3
   },
   "file_extension": ".py",
   "mimetype": "text/x-python",
   "name": "python",
   "nbconvert_exporter": "python",
   "pygments_lexer": "ipython3",
   "version": "3.8.5"
  }
 },
 "nbformat": 4,
 "nbformat_minor": 4
}
